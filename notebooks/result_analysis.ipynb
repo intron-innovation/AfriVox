{
 "cells": [
  {
   "cell_type": "code",
   "execution_count": 1,
   "metadata": {},
   "outputs": [],
   "source": [
    "import os\n",
    "import pandas as pd"
   ]
  },
  {
   "cell_type": "markdown",
   "metadata": {},
   "source": [
    "## Adding Source"
   ]
  },
  {
   "cell_type": "code",
   "execution_count": 2,
   "metadata": {},
   "outputs": [],
   "source": [
    "result_list = os.listdir('../mls_results')"
   ]
  },
  {
   "cell_type": "code",
   "execution_count": 3,
   "metadata": {},
   "outputs": [],
   "source": [
    "directory = \"/home/busayo/busayo/asr_benchmarking/mls_results\""
   ]
  },
  {
   "cell_type": "code",
   "execution_count": 4,
   "metadata": {},
   "outputs": [],
   "source": [
    "mls_df = pd.read_csv(\"/home/busayo/busayo/asr_benchmarking/data/mls_data_index.csv\")"
   ]
  },
  {
   "cell_type": "code",
   "execution_count": 5,
   "metadata": {},
   "outputs": [],
   "source": [
    "sources = mls_df['source'].unique().tolist()"
   ]
  },
  {
   "cell_type": "code",
   "execution_count": 6,
   "metadata": {},
   "outputs": [
    {
     "data": {
      "text/plain": [
       "['naijavoices',\n",
       " 'Ashesi-Org_Financial-Inclusion-Speech-Dataset',\n",
       " 'fleurs',\n",
       " 'NCHLT',\n",
       " 'openslr-african_accented_french',\n",
       " 'ALFFA',\n",
       " 'common_voice',\n",
       " 'intron-MT',\n",
       " 'bible_tts']"
      ]
     },
     "execution_count": 6,
     "metadata": {},
     "output_type": "execute_result"
    }
   ],
   "source": [
    "sources"
   ]
  },
  {
   "cell_type": "code",
   "execution_count": 7,
   "metadata": {},
   "outputs": [],
   "source": [
    "def get_source(path):\n",
    "    if 'naijavoices' in path:\n",
    "        return 'naijavoices'\n",
    "    elif 'fisd' in path:\n",
    "        return 'Ashesi-Org_Financial-Inclusion-Speech-Dataset'\n",
    "    elif 'fleurs' in path:\n",
    "        return 'fleurs'\n",
    "    elif 'nchlt' in path:\n",
    "        return 'NCHLT'\n",
    "    elif  'accented_french' in path:\n",
    "        return 'openslr-african_accented_french'\n",
    "    elif 'ALFFA' in path:\n",
    "        return 'ALFFA'\n",
    "    elif 'common_voice':\n",
    "        return 'common_voice'\n",
    "    elif 'intron_mt' in path:\n",
    "        return 'intron-MT'\n",
    "    elif 'bible_tts' in path:\n",
    "        return 'bible_tts'\n",
    "    else:\n",
    "        raise \"Unknown source\""
   ]
  },
  {
   "cell_type": "code",
   "execution_count": 8,
   "metadata": {},
   "outputs": [
    {
     "data": {
      "text/plain": [
       "'fleurs'"
      ]
     },
     "execution_count": 8,
     "metadata": {},
     "output_type": "execute_result"
    }
   ],
   "source": [
    "get_source('/data/fleurs/amharic/13576155338721748992.wav')"
   ]
  },
  {
   "cell_type": "code",
   "execution_count": 9,
   "metadata": {},
   "outputs": [],
   "source": [
    "for i in range(len(result_list)):\n",
    "    df = pd.read_csv(os.path.join(directory, result_list[i]))\n",
    "    df['source'] = df['audio_path'].apply(lambda x: get_source(x))\n",
    "    df.to_csv(os.path.join(\"/home/busayo/busayo/asr_benchmarking/results\", result_list[i]), index=False)"
   ]
  },
  {
   "cell_type": "code",
   "execution_count": 10,
   "metadata": {},
   "outputs": [
    {
     "data": {
      "text/html": [
       "<div>\n",
       "<style scoped>\n",
       "    .dataframe tbody tr th:only-of-type {\n",
       "        vertical-align: middle;\n",
       "    }\n",
       "\n",
       "    .dataframe tbody tr th {\n",
       "        vertical-align: top;\n",
       "    }\n",
       "\n",
       "    .dataframe thead th {\n",
       "        text-align: right;\n",
       "    }\n",
       "</style>\n",
       "<table border=\"1\" class=\"dataframe\">\n",
       "  <thead>\n",
       "    <tr style=\"text-align: right;\">\n",
       "      <th></th>\n",
       "      <th>audio_id</th>\n",
       "      <th>audio_path</th>\n",
       "      <th>reference</th>\n",
       "      <th>hypothesis</th>\n",
       "      <th>pred_clean</th>\n",
       "      <th>ref_clean</th>\n",
       "      <th>wer</th>\n",
       "      <th>hypothesis_clean</th>\n",
       "      <th>reference_clean</th>\n",
       "      <th>source</th>\n",
       "    </tr>\n",
       "  </thead>\n",
       "  <tbody>\n",
       "    <tr>\n",
       "      <th>0</th>\n",
       "      <td>3797</td>\n",
       "      <td>/data/fleurs/shona/15890632532184093855.wav</td>\n",
       "      <td>tingati 20 muzana yemvura inodira mumakungwa e...</td>\n",
       "      <td>ndingaiti 20 muzana yemvura inodira mumakungwa...</td>\n",
       "      <td>ndingaiti 20 muzana yemvura inodira mumakungwa...</td>\n",
       "      <td>tingati 20 muzana yemvura inodira mumakungwa e...</td>\n",
       "      <td>0.333333</td>\n",
       "      <td>ndingaiti 20 muzana yemvura inodira mumakungwa...</td>\n",
       "      <td>tingati 20 muzana yemvura inodira mumakungwa e...</td>\n",
       "      <td>fleurs</td>\n",
       "    </tr>\n",
       "    <tr>\n",
       "      <th>1</th>\n",
       "      <td>3798</td>\n",
       "      <td>/data/fleurs/shona/5357191176914220862.wav</td>\n",
       "      <td>tingati 20 muzana yemvura inodira mumakungwa e...</td>\n",
       "      <td>tingati 20 muzana yemvura inodira mumakungwa e...</td>\n",
       "      <td>tingati 20 muzana yemvura inodira mumakungwa e...</td>\n",
       "      <td>tingati 20 muzana yemvura inodira mumakungwa e...</td>\n",
       "      <td>0.166667</td>\n",
       "      <td>tingati 20 muzana yemvura inodira mumakungwa e...</td>\n",
       "      <td>tingati 20 muzana yemvura inodira mumakungwa e...</td>\n",
       "      <td>fleurs</td>\n",
       "    </tr>\n",
       "    <tr>\n",
       "      <th>2</th>\n",
       "      <td>3799</td>\n",
       "      <td>/data/fleurs/shona/14354134452878529745.wav</td>\n",
       "      <td>nezuro martelly akaita mhiko yekupinda muprovi...</td>\n",
       "      <td>mezuromatley akaita mhiko yekupinda muprofisio...</td>\n",
       "      <td>mezuromatley akaita mhiko yekupinda muprofisio...</td>\n",
       "      <td>nezuro martelly akaita mhiko yekupinda muprovi...</td>\n",
       "      <td>0.384615</td>\n",
       "      <td>mezuromatley akaita mhiko yekupinda muprofisio...</td>\n",
       "      <td>nezuro martelly akaita mhiko yekupinda muprovi...</td>\n",
       "      <td>fleurs</td>\n",
       "    </tr>\n",
       "    <tr>\n",
       "      <th>3</th>\n",
       "      <td>3800</td>\n",
       "      <td>/data/fleurs/shona/9569619627876551134.wav</td>\n",
       "      <td>nezuro martelly akaita mhiko yekupinda muprovi...</td>\n",
       "      <td>nezuro mutleyy akaita mhiko yekupinda muprovis...</td>\n",
       "      <td>nezuro mutleyy akaita mhiko yekupinda muprovis...</td>\n",
       "      <td>nezuro martelly akaita mhiko yekupinda muprovi...</td>\n",
       "      <td>0.230769</td>\n",
       "      <td>nezuro mutleyy akaita mhiko yekupinda muprovis...</td>\n",
       "      <td>nezuro martelly akaita mhiko yekupinda muprovi...</td>\n",
       "      <td>fleurs</td>\n",
       "    </tr>\n",
       "    <tr>\n",
       "      <th>4</th>\n",
       "      <td>3801</td>\n",
       "      <td>/data/fleurs/shona/2639609103058470532.wav</td>\n",
       "      <td>kusvika pana 1976 makumi matatu kubva muzana e...</td>\n",
       "      <td>kusvika pana 1976 makumi matatu kubva muzana e...</td>\n",
       "      <td>kusvika pana 1976 makumi matatu kubva muzana e...</td>\n",
       "      <td>kusvika pana 1976 makumi matatu kubva muzana e...</td>\n",
       "      <td>0.058824</td>\n",
       "      <td>kusvika pana 1976 makumi matatu kubva muzana e...</td>\n",
       "      <td>kusvika pana 1976 makumi matatu kubva muzana e...</td>\n",
       "      <td>fleurs</td>\n",
       "    </tr>\n",
       "    <tr>\n",
       "      <th>...</th>\n",
       "      <td>...</td>\n",
       "      <td>...</td>\n",
       "      <td>...</td>\n",
       "      <td>...</td>\n",
       "      <td>...</td>\n",
       "      <td>...</td>\n",
       "      <td>...</td>\n",
       "      <td>...</td>\n",
       "      <td>...</td>\n",
       "      <td>...</td>\n",
       "    </tr>\n",
       "    <tr>\n",
       "      <th>1548</th>\n",
       "      <td>42357</td>\n",
       "      <td>/data/intron_mt/shona/fe26cf2756c778f36dbc1170...</td>\n",
       "      <td>Ndezvipi zvingasarudzwa pakurapwa kwandinogona...</td>\n",
       "      <td>ndezvipi zvingasarudzwa pakurapa kwandinogona ...</td>\n",
       "      <td>ndezvipi zvingasarudzwa pakurapa kwandinogona ...</td>\n",
       "      <td>ndezvipi zvingasarudzwa pakurapwa kwandinogona...</td>\n",
       "      <td>0.363636</td>\n",
       "      <td>ndezvipi zvingasarudzwa pakurapa kwandinogona ...</td>\n",
       "      <td>ndezvipi zvingasarudzwa pakurapwa kwandinogona...</td>\n",
       "      <td>common_voice</td>\n",
       "    </tr>\n",
       "    <tr>\n",
       "      <th>1549</th>\n",
       "      <td>42358</td>\n",
       "      <td>/data/intron_mt/shona/79ebbf5f2747a8768e491b5e...</td>\n",
       "      <td>Uyewo, ndine carpel tunnel mumaoko ose ari mav...</td>\n",
       "      <td>uyewo ndine carpal tannel mumaoko ose ari mavi...</td>\n",
       "      <td>uyewo ndine carpal tannel mumaoko ose ari mavi...</td>\n",
       "      <td>uyewo ndine carpel tunnel mumaoko ose ari mavi...</td>\n",
       "      <td>0.440000</td>\n",
       "      <td>uyewo ndine carpal tannel mumaoko ose ari mavi...</td>\n",
       "      <td>uyewo ndine carpel tunnel mumaoko ose ari mavi...</td>\n",
       "      <td>common_voice</td>\n",
       "    </tr>\n",
       "    <tr>\n",
       "      <th>1550</th>\n",
       "      <td>42359</td>\n",
       "      <td>/data/intron_mt/shona/e9b264382943e104ce2ec22d...</td>\n",
       "      <td>Akandipa mishonga inorwisa mabhakitiriya uye h...</td>\n",
       "      <td>akandipa mishonga inorwisa mabhakiteria uye ho...</td>\n",
       "      <td>akandipa mishonga inorwisa mabhakiteria uye ho...</td>\n",
       "      <td>akandipa mishonga inorwisa mabhakitiriya uye h...</td>\n",
       "      <td>0.476190</td>\n",
       "      <td>akandipa mishonga inorwisa mabhakiteria uye ho...</td>\n",
       "      <td>akandipa mishonga inorwisa mabhakitiriya uye h...</td>\n",
       "      <td>common_voice</td>\n",
       "    </tr>\n",
       "    <tr>\n",
       "      <th>1551</th>\n",
       "      <td>42360</td>\n",
       "      <td>/data/intron_mt/shona/1b4ecf10091079c06545dca4...</td>\n",
       "      <td>Zvimwe zvose zvakanga zviri mukati memwero wen...</td>\n",
       "      <td>zvimwe zvose zvakanga zviri mukati memwero wen...</td>\n",
       "      <td>zvimwe zvose zvakanga zviri mukati memwero wen...</td>\n",
       "      <td>zvimwe zvose zvakanga zviri mukati memwero wen...</td>\n",
       "      <td>0.161290</td>\n",
       "      <td>zvimwe zvose zvakanga zviri mukati memwero wen...</td>\n",
       "      <td>zvimwe zvose zvakanga zviri mukati memwero wen...</td>\n",
       "      <td>common_voice</td>\n",
       "    </tr>\n",
       "    <tr>\n",
       "      <th>1552</th>\n",
       "      <td>42361</td>\n",
       "      <td>/data/intron_mt/shona/8fef8b281aed073ad098cfbf...</td>\n",
       "      <td>Pandakamupinza mukati kuti anditarise, zvaiita...</td>\n",
       "      <td>pandakamupinza mukati kuti anditarise zvaiita ...</td>\n",
       "      <td>pandakamupinza mukati kuti anditarise zvaiita ...</td>\n",
       "      <td>pandakamupinza mukati kuti anditarise zvaiita ...</td>\n",
       "      <td>0.400000</td>\n",
       "      <td>pandakamupinza mukati kuti anditarise zvaiita ...</td>\n",
       "      <td>pandakamupinza mukati kuti anditarise zvaiita ...</td>\n",
       "      <td>common_voice</td>\n",
       "    </tr>\n",
       "  </tbody>\n",
       "</table>\n",
       "<p>1553 rows × 10 columns</p>\n",
       "</div>"
      ],
      "text/plain": [
       "      audio_id                                         audio_path  \\\n",
       "0         3797        /data/fleurs/shona/15890632532184093855.wav   \n",
       "1         3798         /data/fleurs/shona/5357191176914220862.wav   \n",
       "2         3799        /data/fleurs/shona/14354134452878529745.wav   \n",
       "3         3800         /data/fleurs/shona/9569619627876551134.wav   \n",
       "4         3801         /data/fleurs/shona/2639609103058470532.wav   \n",
       "...        ...                                                ...   \n",
       "1548     42357  /data/intron_mt/shona/fe26cf2756c778f36dbc1170...   \n",
       "1549     42358  /data/intron_mt/shona/79ebbf5f2747a8768e491b5e...   \n",
       "1550     42359  /data/intron_mt/shona/e9b264382943e104ce2ec22d...   \n",
       "1551     42360  /data/intron_mt/shona/1b4ecf10091079c06545dca4...   \n",
       "1552     42361  /data/intron_mt/shona/8fef8b281aed073ad098cfbf...   \n",
       "\n",
       "                                              reference  \\\n",
       "0     tingati 20 muzana yemvura inodira mumakungwa e...   \n",
       "1     tingati 20 muzana yemvura inodira mumakungwa e...   \n",
       "2     nezuro martelly akaita mhiko yekupinda muprovi...   \n",
       "3     nezuro martelly akaita mhiko yekupinda muprovi...   \n",
       "4     kusvika pana 1976 makumi matatu kubva muzana e...   \n",
       "...                                                 ...   \n",
       "1548  Ndezvipi zvingasarudzwa pakurapwa kwandinogona...   \n",
       "1549  Uyewo, ndine carpel tunnel mumaoko ose ari mav...   \n",
       "1550  Akandipa mishonga inorwisa mabhakitiriya uye h...   \n",
       "1551  Zvimwe zvose zvakanga zviri mukati memwero wen...   \n",
       "1552  Pandakamupinza mukati kuti anditarise, zvaiita...   \n",
       "\n",
       "                                             hypothesis  \\\n",
       "0     ndingaiti 20 muzana yemvura inodira mumakungwa...   \n",
       "1     tingati 20 muzana yemvura inodira mumakungwa e...   \n",
       "2     mezuromatley akaita mhiko yekupinda muprofisio...   \n",
       "3     nezuro mutleyy akaita mhiko yekupinda muprovis...   \n",
       "4     kusvika pana 1976 makumi matatu kubva muzana e...   \n",
       "...                                                 ...   \n",
       "1548  ndezvipi zvingasarudzwa pakurapa kwandinogona ...   \n",
       "1549  uyewo ndine carpal tannel mumaoko ose ari mavi...   \n",
       "1550  akandipa mishonga inorwisa mabhakiteria uye ho...   \n",
       "1551  zvimwe zvose zvakanga zviri mukati memwero wen...   \n",
       "1552  pandakamupinza mukati kuti anditarise zvaiita ...   \n",
       "\n",
       "                                             pred_clean  \\\n",
       "0     ndingaiti 20 muzana yemvura inodira mumakungwa...   \n",
       "1     tingati 20 muzana yemvura inodira mumakungwa e...   \n",
       "2     mezuromatley akaita mhiko yekupinda muprofisio...   \n",
       "3     nezuro mutleyy akaita mhiko yekupinda muprovis...   \n",
       "4     kusvika pana 1976 makumi matatu kubva muzana e...   \n",
       "...                                                 ...   \n",
       "1548  ndezvipi zvingasarudzwa pakurapa kwandinogona ...   \n",
       "1549  uyewo ndine carpal tannel mumaoko ose ari mavi...   \n",
       "1550  akandipa mishonga inorwisa mabhakiteria uye ho...   \n",
       "1551  zvimwe zvose zvakanga zviri mukati memwero wen...   \n",
       "1552  pandakamupinza mukati kuti anditarise zvaiita ...   \n",
       "\n",
       "                                              ref_clean       wer  \\\n",
       "0     tingati 20 muzana yemvura inodira mumakungwa e...  0.333333   \n",
       "1     tingati 20 muzana yemvura inodira mumakungwa e...  0.166667   \n",
       "2     nezuro martelly akaita mhiko yekupinda muprovi...  0.384615   \n",
       "3     nezuro martelly akaita mhiko yekupinda muprovi...  0.230769   \n",
       "4     kusvika pana 1976 makumi matatu kubva muzana e...  0.058824   \n",
       "...                                                 ...       ...   \n",
       "1548  ndezvipi zvingasarudzwa pakurapwa kwandinogona...  0.363636   \n",
       "1549  uyewo ndine carpel tunnel mumaoko ose ari mavi...  0.440000   \n",
       "1550  akandipa mishonga inorwisa mabhakitiriya uye h...  0.476190   \n",
       "1551  zvimwe zvose zvakanga zviri mukati memwero wen...  0.161290   \n",
       "1552  pandakamupinza mukati kuti anditarise zvaiita ...  0.400000   \n",
       "\n",
       "                                       hypothesis_clean  \\\n",
       "0     ndingaiti 20 muzana yemvura inodira mumakungwa...   \n",
       "1     tingati 20 muzana yemvura inodira mumakungwa e...   \n",
       "2     mezuromatley akaita mhiko yekupinda muprofisio...   \n",
       "3     nezuro mutleyy akaita mhiko yekupinda muprovis...   \n",
       "4     kusvika pana 1976 makumi matatu kubva muzana e...   \n",
       "...                                                 ...   \n",
       "1548  ndezvipi zvingasarudzwa pakurapa kwandinogona ...   \n",
       "1549  uyewo ndine carpal tannel mumaoko ose ari mavi...   \n",
       "1550  akandipa mishonga inorwisa mabhakiteria uye ho...   \n",
       "1551  zvimwe zvose zvakanga zviri mukati memwero wen...   \n",
       "1552  pandakamupinza mukati kuti anditarise zvaiita ...   \n",
       "\n",
       "                                        reference_clean        source  \n",
       "0     tingati 20 muzana yemvura inodira mumakungwa e...        fleurs  \n",
       "1     tingati 20 muzana yemvura inodira mumakungwa e...        fleurs  \n",
       "2     nezuro martelly akaita mhiko yekupinda muprovi...        fleurs  \n",
       "3     nezuro martelly akaita mhiko yekupinda muprovi...        fleurs  \n",
       "4     kusvika pana 1976 makumi matatu kubva muzana e...        fleurs  \n",
       "...                                                 ...           ...  \n",
       "1548  ndezvipi zvingasarudzwa pakurapwa kwandinogona...  common_voice  \n",
       "1549  uyewo ndine carpel tunnel mumaoko ose ari mavi...  common_voice  \n",
       "1550  akandipa mishonga inorwisa mabhakitiriya uye h...  common_voice  \n",
       "1551  zvimwe zvose zvakanga zviri mukati memwero wen...  common_voice  \n",
       "1552  pandakamupinza mukati kuti anditarise zvaiita ...  common_voice  \n",
       "\n",
       "[1553 rows x 10 columns]"
      ]
     },
     "execution_count": 10,
     "metadata": {},
     "output_type": "execute_result"
    }
   ],
   "source": [
    "df"
   ]
  },
  {
   "cell_type": "markdown",
   "metadata": {},
   "source": [
    "## Result by source"
   ]
  },
  {
   "cell_type": "code",
   "execution_count": 17,
   "metadata": {},
   "outputs": [
    {
     "name": "stdout",
     "output_type": "stream",
     "text": [
      "Length: 1\n"
     ]
    }
   ],
   "source": [
    "result_list = os.listdir('../results')\n",
    "\n",
    "whisper_ls = [x for x in result_list if 'canary' in x]\n",
    "print(f\"Length: {len(whisper_ls)}\")\n",
    "\n",
    "directory = \"/home/busayo/busayo/asr_benchmarking/results/\"\n",
    "\n",
    "def get_result_by_source(df_list):\n",
    "    for x in df_list:\n",
    "        result = pd.read_csv(directory+x)\n",
    "        result = result.groupby(['source'])['wer'].mean()\n",
    "        print(x)\n",
    "        print(result)"
   ]
  },
  {
   "cell_type": "code",
   "execution_count": 18,
   "metadata": {},
   "outputs": [
    {
     "name": "stdout",
     "output_type": "stream",
     "text": [
      "open-source-full_test-nvidia-canary-1b-french-wer-0.1454-1405.csv\n",
      "source\n",
      "intron-MT                          0.167823\n",
      "openslr-african_accented_french    0.065297\n",
      "Name: wer, dtype: float64\n"
     ]
    }
   ],
   "source": [
    "get_result_by_source(whisper_ls)"
   ]
  },
  {
   "cell_type": "code",
   "execution_count": null,
   "metadata": {},
   "outputs": [],
   "source": []
  }
 ],
 "metadata": {
  "kernelspec": {
   "display_name": "asr_benchmark",
   "language": "python",
   "name": "python3"
  },
  "language_info": {
   "codemirror_mode": {
    "name": "ipython",
    "version": 3
   },
   "file_extension": ".py",
   "mimetype": "text/x-python",
   "name": "python",
   "nbconvert_exporter": "python",
   "pygments_lexer": "ipython3",
   "version": "3.10.16"
  }
 },
 "nbformat": 4,
 "nbformat_minor": 2
}
