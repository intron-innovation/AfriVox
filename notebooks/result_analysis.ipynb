{
 "cells": [
  {
   "cell_type": "code",
   "execution_count": 2,
   "metadata": {},
   "outputs": [],
   "source": [
    "import os\n",
    "import pandas as pd"
   ]
  },
  {
   "cell_type": "markdown",
   "metadata": {},
   "source": [
    "## Adding Source"
   ]
  },
  {
   "cell_type": "code",
   "execution_count": 2,
   "metadata": {},
   "outputs": [],
   "source": [
    "result_list = os.listdir('../mls_results')"
   ]
  },
  {
   "cell_type": "code",
   "execution_count": 3,
   "metadata": {},
   "outputs": [],
   "source": [
    "directory = \"/home/busayo/busayo/asr_benchmarking/mls_results\""
   ]
  },
  {
   "cell_type": "code",
   "execution_count": 4,
   "metadata": {},
   "outputs": [],
   "source": [
    "mls_df = pd.read_csv(\"/home/busayo/busayo/asr_benchmarking/data/mls_data_index.csv\")"
   ]
  },
  {
   "cell_type": "code",
   "execution_count": 5,
   "metadata": {},
   "outputs": [],
   "source": [
    "sources = mls_df['source'].unique().tolist()"
   ]
  },
  {
   "cell_type": "code",
   "execution_count": 6,
   "metadata": {},
   "outputs": [
    {
     "data": {
      "text/plain": [
       "['naijavoices',\n",
       " 'Ashesi-Org_Financial-Inclusion-Speech-Dataset',\n",
       " 'fleurs',\n",
       " 'NCHLT',\n",
       " 'openslr-african_accented_french',\n",
       " 'ALFFA',\n",
       " 'common_voice',\n",
       " 'intron-MT',\n",
       " 'bible_tts']"
      ]
     },
     "execution_count": 6,
     "metadata": {},
     "output_type": "execute_result"
    }
   ],
   "source": [
    "sources"
   ]
  },
  {
   "cell_type": "code",
   "execution_count": 7,
   "metadata": {},
   "outputs": [],
   "source": [
    "def get_source(path):\n",
    "    if 'naijavoices' in path:\n",
    "        return 'naijavoices'\n",
    "    elif 'fisd' in path:\n",
    "        return 'Ashesi-Org_Financial-Inclusion-Speech-Dataset'\n",
    "    elif 'fleurs' in path:\n",
    "        return 'fleurs'\n",
    "    elif 'nchlt' in path:\n",
    "        return 'NCHLT'\n",
    "    elif  'accented_french' in path:\n",
    "        return 'openslr-african_accented_french'\n",
    "    elif 'ALFFA' in path:\n",
    "        return 'ALFFA'\n",
    "    elif 'common_voice':\n",
    "        return 'common_voice'\n",
    "    elif 'intron_mt' in path:\n",
    "        return 'intron-MT'\n",
    "    elif 'bible_tts' in path:\n",
    "        return 'bible_tts'\n",
    "    else:\n",
    "        raise \"Unknown source\""
   ]
  },
  {
   "cell_type": "code",
   "execution_count": 8,
   "metadata": {},
   "outputs": [
    {
     "data": {
      "text/plain": [
       "'fleurs'"
      ]
     },
     "execution_count": 8,
     "metadata": {},
     "output_type": "execute_result"
    }
   ],
   "source": [
    "get_source('/data/fleurs/amharic/13576155338721748992.wav')"
   ]
  },
  {
   "cell_type": "code",
   "execution_count": 9,
   "metadata": {},
   "outputs": [],
   "source": [
    "for i in range(len(result_list)):\n",
    "    df = pd.read_csv(os.path.join(directory, result_list[i]))\n",
    "    df['source'] = df['audio_path'].apply(lambda x: get_source(x))\n",
    "    df.to_csv(os.path.join(\"/home/busayo/busayo/asr_benchmarking/results\", result_list[i]), index=False)"
   ]
  },
  {
   "cell_type": "code",
   "execution_count": 10,
   "metadata": {},
   "outputs": [
    {
     "data": {
      "text/html": [
       "<div>\n",
       "<style scoped>\n",
       "    .dataframe tbody tr th:only-of-type {\n",
       "        vertical-align: middle;\n",
       "    }\n",
       "\n",
       "    .dataframe tbody tr th {\n",
       "        vertical-align: top;\n",
       "    }\n",
       "\n",
       "    .dataframe thead th {\n",
       "        text-align: right;\n",
       "    }\n",
       "</style>\n",
       "<table border=\"1\" class=\"dataframe\">\n",
       "  <thead>\n",
       "    <tr style=\"text-align: right;\">\n",
       "      <th></th>\n",
       "      <th>audio_id</th>\n",
       "      <th>audio_path</th>\n",
       "      <th>reference</th>\n",
       "      <th>hypothesis</th>\n",
       "      <th>pred_clean</th>\n",
       "      <th>ref_clean</th>\n",
       "      <th>wer</th>\n",
       "      <th>hypothesis_clean</th>\n",
       "      <th>reference_clean</th>\n",
       "      <th>source</th>\n",
       "    </tr>\n",
       "  </thead>\n",
       "  <tbody>\n",
       "    <tr>\n",
       "      <th>0</th>\n",
       "      <td>3797</td>\n",
       "      <td>/data/fleurs/shona/15890632532184093855.wav</td>\n",
       "      <td>tingati 20 muzana yemvura inodira mumakungwa e...</td>\n",
       "      <td>ndingaiti 20 muzana yemvura inodira mumakungwa...</td>\n",
       "      <td>ndingaiti 20 muzana yemvura inodira mumakungwa...</td>\n",
       "      <td>tingati 20 muzana yemvura inodira mumakungwa e...</td>\n",
       "      <td>0.333333</td>\n",
       "      <td>ndingaiti 20 muzana yemvura inodira mumakungwa...</td>\n",
       "      <td>tingati 20 muzana yemvura inodira mumakungwa e...</td>\n",
       "      <td>fleurs</td>\n",
       "    </tr>\n",
       "    <tr>\n",
       "      <th>1</th>\n",
       "      <td>3798</td>\n",
       "      <td>/data/fleurs/shona/5357191176914220862.wav</td>\n",
       "      <td>tingati 20 muzana yemvura inodira mumakungwa e...</td>\n",
       "      <td>tingati 20 muzana yemvura inodira mumakungwa e...</td>\n",
       "      <td>tingati 20 muzana yemvura inodira mumakungwa e...</td>\n",
       "      <td>tingati 20 muzana yemvura inodira mumakungwa e...</td>\n",
       "      <td>0.166667</td>\n",
       "      <td>tingati 20 muzana yemvura inodira mumakungwa e...</td>\n",
       "      <td>tingati 20 muzana yemvura inodira mumakungwa e...</td>\n",
       "      <td>fleurs</td>\n",
       "    </tr>\n",
       "    <tr>\n",
       "      <th>2</th>\n",
       "      <td>3799</td>\n",
       "      <td>/data/fleurs/shona/14354134452878529745.wav</td>\n",
       "      <td>nezuro martelly akaita mhiko yekupinda muprovi...</td>\n",
       "      <td>mezuromatley akaita mhiko yekupinda muprofisio...</td>\n",
       "      <td>mezuromatley akaita mhiko yekupinda muprofisio...</td>\n",
       "      <td>nezuro martelly akaita mhiko yekupinda muprovi...</td>\n",
       "      <td>0.384615</td>\n",
       "      <td>mezuromatley akaita mhiko yekupinda muprofisio...</td>\n",
       "      <td>nezuro martelly akaita mhiko yekupinda muprovi...</td>\n",
       "      <td>fleurs</td>\n",
       "    </tr>\n",
       "    <tr>\n",
       "      <th>3</th>\n",
       "      <td>3800</td>\n",
       "      <td>/data/fleurs/shona/9569619627876551134.wav</td>\n",
       "      <td>nezuro martelly akaita mhiko yekupinda muprovi...</td>\n",
       "      <td>nezuro mutleyy akaita mhiko yekupinda muprovis...</td>\n",
       "      <td>nezuro mutleyy akaita mhiko yekupinda muprovis...</td>\n",
       "      <td>nezuro martelly akaita mhiko yekupinda muprovi...</td>\n",
       "      <td>0.230769</td>\n",
       "      <td>nezuro mutleyy akaita mhiko yekupinda muprovis...</td>\n",
       "      <td>nezuro martelly akaita mhiko yekupinda muprovi...</td>\n",
       "      <td>fleurs</td>\n",
       "    </tr>\n",
       "    <tr>\n",
       "      <th>4</th>\n",
       "      <td>3801</td>\n",
       "      <td>/data/fleurs/shona/2639609103058470532.wav</td>\n",
       "      <td>kusvika pana 1976 makumi matatu kubva muzana e...</td>\n",
       "      <td>kusvika pana 1976 makumi matatu kubva muzana e...</td>\n",
       "      <td>kusvika pana 1976 makumi matatu kubva muzana e...</td>\n",
       "      <td>kusvika pana 1976 makumi matatu kubva muzana e...</td>\n",
       "      <td>0.058824</td>\n",
       "      <td>kusvika pana 1976 makumi matatu kubva muzana e...</td>\n",
       "      <td>kusvika pana 1976 makumi matatu kubva muzana e...</td>\n",
       "      <td>fleurs</td>\n",
       "    </tr>\n",
       "    <tr>\n",
       "      <th>...</th>\n",
       "      <td>...</td>\n",
       "      <td>...</td>\n",
       "      <td>...</td>\n",
       "      <td>...</td>\n",
       "      <td>...</td>\n",
       "      <td>...</td>\n",
       "      <td>...</td>\n",
       "      <td>...</td>\n",
       "      <td>...</td>\n",
       "      <td>...</td>\n",
       "    </tr>\n",
       "    <tr>\n",
       "      <th>1548</th>\n",
       "      <td>42357</td>\n",
       "      <td>/data/intron_mt/shona/fe26cf2756c778f36dbc1170...</td>\n",
       "      <td>Ndezvipi zvingasarudzwa pakurapwa kwandinogona...</td>\n",
       "      <td>ndezvipi zvingasarudzwa pakurapa kwandinogona ...</td>\n",
       "      <td>ndezvipi zvingasarudzwa pakurapa kwandinogona ...</td>\n",
       "      <td>ndezvipi zvingasarudzwa pakurapwa kwandinogona...</td>\n",
       "      <td>0.363636</td>\n",
       "      <td>ndezvipi zvingasarudzwa pakurapa kwandinogona ...</td>\n",
       "      <td>ndezvipi zvingasarudzwa pakurapwa kwandinogona...</td>\n",
       "      <td>common_voice</td>\n",
       "    </tr>\n",
       "    <tr>\n",
       "      <th>1549</th>\n",
       "      <td>42358</td>\n",
       "      <td>/data/intron_mt/shona/79ebbf5f2747a8768e491b5e...</td>\n",
       "      <td>Uyewo, ndine carpel tunnel mumaoko ose ari mav...</td>\n",
       "      <td>uyewo ndine carpal tannel mumaoko ose ari mavi...</td>\n",
       "      <td>uyewo ndine carpal tannel mumaoko ose ari mavi...</td>\n",
       "      <td>uyewo ndine carpel tunnel mumaoko ose ari mavi...</td>\n",
       "      <td>0.440000</td>\n",
       "      <td>uyewo ndine carpal tannel mumaoko ose ari mavi...</td>\n",
       "      <td>uyewo ndine carpel tunnel mumaoko ose ari mavi...</td>\n",
       "      <td>common_voice</td>\n",
       "    </tr>\n",
       "    <tr>\n",
       "      <th>1550</th>\n",
       "      <td>42359</td>\n",
       "      <td>/data/intron_mt/shona/e9b264382943e104ce2ec22d...</td>\n",
       "      <td>Akandipa mishonga inorwisa mabhakitiriya uye h...</td>\n",
       "      <td>akandipa mishonga inorwisa mabhakiteria uye ho...</td>\n",
       "      <td>akandipa mishonga inorwisa mabhakiteria uye ho...</td>\n",
       "      <td>akandipa mishonga inorwisa mabhakitiriya uye h...</td>\n",
       "      <td>0.476190</td>\n",
       "      <td>akandipa mishonga inorwisa mabhakiteria uye ho...</td>\n",
       "      <td>akandipa mishonga inorwisa mabhakitiriya uye h...</td>\n",
       "      <td>common_voice</td>\n",
       "    </tr>\n",
       "    <tr>\n",
       "      <th>1551</th>\n",
       "      <td>42360</td>\n",
       "      <td>/data/intron_mt/shona/1b4ecf10091079c06545dca4...</td>\n",
       "      <td>Zvimwe zvose zvakanga zviri mukati memwero wen...</td>\n",
       "      <td>zvimwe zvose zvakanga zviri mukati memwero wen...</td>\n",
       "      <td>zvimwe zvose zvakanga zviri mukati memwero wen...</td>\n",
       "      <td>zvimwe zvose zvakanga zviri mukati memwero wen...</td>\n",
       "      <td>0.161290</td>\n",
       "      <td>zvimwe zvose zvakanga zviri mukati memwero wen...</td>\n",
       "      <td>zvimwe zvose zvakanga zviri mukati memwero wen...</td>\n",
       "      <td>common_voice</td>\n",
       "    </tr>\n",
       "    <tr>\n",
       "      <th>1552</th>\n",
       "      <td>42361</td>\n",
       "      <td>/data/intron_mt/shona/8fef8b281aed073ad098cfbf...</td>\n",
       "      <td>Pandakamupinza mukati kuti anditarise, zvaiita...</td>\n",
       "      <td>pandakamupinza mukati kuti anditarise zvaiita ...</td>\n",
       "      <td>pandakamupinza mukati kuti anditarise zvaiita ...</td>\n",
       "      <td>pandakamupinza mukati kuti anditarise zvaiita ...</td>\n",
       "      <td>0.400000</td>\n",
       "      <td>pandakamupinza mukati kuti anditarise zvaiita ...</td>\n",
       "      <td>pandakamupinza mukati kuti anditarise zvaiita ...</td>\n",
       "      <td>common_voice</td>\n",
       "    </tr>\n",
       "  </tbody>\n",
       "</table>\n",
       "<p>1553 rows × 10 columns</p>\n",
       "</div>"
      ],
      "text/plain": [
       "      audio_id                                         audio_path  \\\n",
       "0         3797        /data/fleurs/shona/15890632532184093855.wav   \n",
       "1         3798         /data/fleurs/shona/5357191176914220862.wav   \n",
       "2         3799        /data/fleurs/shona/14354134452878529745.wav   \n",
       "3         3800         /data/fleurs/shona/9569619627876551134.wav   \n",
       "4         3801         /data/fleurs/shona/2639609103058470532.wav   \n",
       "...        ...                                                ...   \n",
       "1548     42357  /data/intron_mt/shona/fe26cf2756c778f36dbc1170...   \n",
       "1549     42358  /data/intron_mt/shona/79ebbf5f2747a8768e491b5e...   \n",
       "1550     42359  /data/intron_mt/shona/e9b264382943e104ce2ec22d...   \n",
       "1551     42360  /data/intron_mt/shona/1b4ecf10091079c06545dca4...   \n",
       "1552     42361  /data/intron_mt/shona/8fef8b281aed073ad098cfbf...   \n",
       "\n",
       "                                              reference  \\\n",
       "0     tingati 20 muzana yemvura inodira mumakungwa e...   \n",
       "1     tingati 20 muzana yemvura inodira mumakungwa e...   \n",
       "2     nezuro martelly akaita mhiko yekupinda muprovi...   \n",
       "3     nezuro martelly akaita mhiko yekupinda muprovi...   \n",
       "4     kusvika pana 1976 makumi matatu kubva muzana e...   \n",
       "...                                                 ...   \n",
       "1548  Ndezvipi zvingasarudzwa pakurapwa kwandinogona...   \n",
       "1549  Uyewo, ndine carpel tunnel mumaoko ose ari mav...   \n",
       "1550  Akandipa mishonga inorwisa mabhakitiriya uye h...   \n",
       "1551  Zvimwe zvose zvakanga zviri mukati memwero wen...   \n",
       "1552  Pandakamupinza mukati kuti anditarise, zvaiita...   \n",
       "\n",
       "                                             hypothesis  \\\n",
       "0     ndingaiti 20 muzana yemvura inodira mumakungwa...   \n",
       "1     tingati 20 muzana yemvura inodira mumakungwa e...   \n",
       "2     mezuromatley akaita mhiko yekupinda muprofisio...   \n",
       "3     nezuro mutleyy akaita mhiko yekupinda muprovis...   \n",
       "4     kusvika pana 1976 makumi matatu kubva muzana e...   \n",
       "...                                                 ...   \n",
       "1548  ndezvipi zvingasarudzwa pakurapa kwandinogona ...   \n",
       "1549  uyewo ndine carpal tannel mumaoko ose ari mavi...   \n",
       "1550  akandipa mishonga inorwisa mabhakiteria uye ho...   \n",
       "1551  zvimwe zvose zvakanga zviri mukati memwero wen...   \n",
       "1552  pandakamupinza mukati kuti anditarise zvaiita ...   \n",
       "\n",
       "                                             pred_clean  \\\n",
       "0     ndingaiti 20 muzana yemvura inodira mumakungwa...   \n",
       "1     tingati 20 muzana yemvura inodira mumakungwa e...   \n",
       "2     mezuromatley akaita mhiko yekupinda muprofisio...   \n",
       "3     nezuro mutleyy akaita mhiko yekupinda muprovis...   \n",
       "4     kusvika pana 1976 makumi matatu kubva muzana e...   \n",
       "...                                                 ...   \n",
       "1548  ndezvipi zvingasarudzwa pakurapa kwandinogona ...   \n",
       "1549  uyewo ndine carpal tannel mumaoko ose ari mavi...   \n",
       "1550  akandipa mishonga inorwisa mabhakiteria uye ho...   \n",
       "1551  zvimwe zvose zvakanga zviri mukati memwero wen...   \n",
       "1552  pandakamupinza mukati kuti anditarise zvaiita ...   \n",
       "\n",
       "                                              ref_clean       wer  \\\n",
       "0     tingati 20 muzana yemvura inodira mumakungwa e...  0.333333   \n",
       "1     tingati 20 muzana yemvura inodira mumakungwa e...  0.166667   \n",
       "2     nezuro martelly akaita mhiko yekupinda muprovi...  0.384615   \n",
       "3     nezuro martelly akaita mhiko yekupinda muprovi...  0.230769   \n",
       "4     kusvika pana 1976 makumi matatu kubva muzana e...  0.058824   \n",
       "...                                                 ...       ...   \n",
       "1548  ndezvipi zvingasarudzwa pakurapwa kwandinogona...  0.363636   \n",
       "1549  uyewo ndine carpel tunnel mumaoko ose ari mavi...  0.440000   \n",
       "1550  akandipa mishonga inorwisa mabhakitiriya uye h...  0.476190   \n",
       "1551  zvimwe zvose zvakanga zviri mukati memwero wen...  0.161290   \n",
       "1552  pandakamupinza mukati kuti anditarise zvaiita ...  0.400000   \n",
       "\n",
       "                                       hypothesis_clean  \\\n",
       "0     ndingaiti 20 muzana yemvura inodira mumakungwa...   \n",
       "1     tingati 20 muzana yemvura inodira mumakungwa e...   \n",
       "2     mezuromatley akaita mhiko yekupinda muprofisio...   \n",
       "3     nezuro mutleyy akaita mhiko yekupinda muprovis...   \n",
       "4     kusvika pana 1976 makumi matatu kubva muzana e...   \n",
       "...                                                 ...   \n",
       "1548  ndezvipi zvingasarudzwa pakurapa kwandinogona ...   \n",
       "1549  uyewo ndine carpal tannel mumaoko ose ari mavi...   \n",
       "1550  akandipa mishonga inorwisa mabhakiteria uye ho...   \n",
       "1551  zvimwe zvose zvakanga zviri mukati memwero wen...   \n",
       "1552  pandakamupinza mukati kuti anditarise zvaiita ...   \n",
       "\n",
       "                                        reference_clean        source  \n",
       "0     tingati 20 muzana yemvura inodira mumakungwa e...        fleurs  \n",
       "1     tingati 20 muzana yemvura inodira mumakungwa e...        fleurs  \n",
       "2     nezuro martelly akaita mhiko yekupinda muprovi...        fleurs  \n",
       "3     nezuro martelly akaita mhiko yekupinda muprovi...        fleurs  \n",
       "4     kusvika pana 1976 makumi matatu kubva muzana e...        fleurs  \n",
       "...                                                 ...           ...  \n",
       "1548  ndezvipi zvingasarudzwa pakurapwa kwandinogona...  common_voice  \n",
       "1549  uyewo ndine carpel tunnel mumaoko ose ari mavi...  common_voice  \n",
       "1550  akandipa mishonga inorwisa mabhakitiriya uye h...  common_voice  \n",
       "1551  zvimwe zvose zvakanga zviri mukati memwero wen...  common_voice  \n",
       "1552  pandakamupinza mukati kuti anditarise zvaiita ...  common_voice  \n",
       "\n",
       "[1553 rows x 10 columns]"
      ]
     },
     "execution_count": 10,
     "metadata": {},
     "output_type": "execute_result"
    }
   ],
   "source": [
    "df"
   ]
  },
  {
   "cell_type": "markdown",
   "metadata": {},
   "source": [
    "## Result by source"
   ]
  },
  {
   "cell_type": "code",
   "execution_count": 17,
   "metadata": {},
   "outputs": [
    {
     "name": "stdout",
     "output_type": "stream",
     "text": [
      "Length: 1\n"
     ]
    }
   ],
   "source": [
    "result_list = os.listdir('../results')\n",
    "\n",
    "whisper_ls = [x for x in result_list if 'canary' in x]\n",
    "print(f\"Length: {len(whisper_ls)}\")\n",
    "\n",
    "directory = \"/home/busayo/busayo/asr_benchmarking/results/\"\n",
    "\n",
    "def get_result_by_source(df_list):\n",
    "    for x in df_list:\n",
    "        result = pd.read_csv(directory+x)\n",
    "        result = result.groupby(['source'])['wer'].mean()\n",
    "        print(x)\n",
    "        print(result)"
   ]
  },
  {
   "cell_type": "code",
   "execution_count": 18,
   "metadata": {},
   "outputs": [
    {
     "name": "stdout",
     "output_type": "stream",
     "text": [
      "open-source-full_test-nvidia-canary-1b-french-wer-0.1454-1405.csv\n",
      "source\n",
      "intron-MT                          0.167823\n",
      "openslr-african_accented_french    0.065297\n",
      "Name: wer, dtype: float64\n"
     ]
    }
   ],
   "source": [
    "get_result_by_source(whisper_ls)"
   ]
  },
  {
   "cell_type": "markdown",
   "metadata": {},
   "source": [
    "## LLM APIs"
   ]
  },
  {
   "cell_type": "code",
   "execution_count": 26,
   "metadata": {},
   "outputs": [
    {
     "data": {
      "text/plain": [
       "Index(['speaker_id', 'text', 'audio_path', 'duration', 'source', 'language',\n",
       "       'gender', 'results'],\n",
       "      dtype='object')"
      ]
     },
     "execution_count": 26,
     "metadata": {},
     "output_type": "execute_result"
    }
   ],
   "source": [
    "df =  pd.read_csv(\"/home/busayo/busayo/asr_benchmarking/gpt4o_preview_mls_full.csv\")\n",
    "df.columns"
   ]
  },
  {
   "cell_type": "code",
   "execution_count": 27,
   "metadata": {},
   "outputs": [
    {
     "data": {
      "text/html": [
       "<div>\n",
       "<style scoped>\n",
       "    .dataframe tbody tr th:only-of-type {\n",
       "        vertical-align: middle;\n",
       "    }\n",
       "\n",
       "    .dataframe tbody tr th {\n",
       "        vertical-align: top;\n",
       "    }\n",
       "\n",
       "    .dataframe thead th {\n",
       "        text-align: right;\n",
       "    }\n",
       "</style>\n",
       "<table border=\"1\" class=\"dataframe\">\n",
       "  <thead>\n",
       "    <tr style=\"text-align: right;\">\n",
       "      <th></th>\n",
       "      <th>text</th>\n",
       "      <th>results</th>\n",
       "    </tr>\n",
       "  </thead>\n",
       "  <tbody>\n",
       "    <tr>\n",
       "      <th>0</th>\n",
       "      <td>Ọmọ ọ̀jọ̀gbọ́n fẹ̀yìntì ni mò ń fẹ́</td>\n",
       "      <td>Mọ̀mọ́ ò, ọ́jọ́gbọ́n fọ̀yìntínì múúfẹ́.</td>\n",
       "    </tr>\n",
       "    <tr>\n",
       "      <th>1</th>\n",
       "      <td>Mamman Shata ɗan jihar Gombe ne</td>\n",
       "      <td>Ma mère m'a jeté un œuf pour un pain.</td>\n",
       "    </tr>\n",
       "    <tr>\n",
       "      <th>2</th>\n",
       "      <td>Nwanyi ahụ si na ọbụ ọria obiri n'aja ọcha gbụ...</td>\n",
       "      <td>Nwanyị ahụ sina ọmụ n'ebe ọ bụ oria Obi na-ajọ...</td>\n",
       "    </tr>\n",
       "  </tbody>\n",
       "</table>\n",
       "</div>"
      ],
      "text/plain": [
       "                                                text  \\\n",
       "0                Ọmọ ọ̀jọ̀gbọ́n fẹ̀yìntì ni mò ń fẹ́   \n",
       "1                    Mamman Shata ɗan jihar Gombe ne   \n",
       "2  Nwanyi ahụ si na ọbụ ọria obiri n'aja ọcha gbụ...   \n",
       "\n",
       "                                             results  \n",
       "0           Mọ̀mọ́ ò, ọ́jọ́gbọ́n fọ̀yìntínì múúfẹ́.  \n",
       "1              Ma mère m'a jeté un œuf pour un pain.  \n",
       "2  Nwanyị ahụ sina ọmụ n'ebe ọ bụ oria Obi na-ajọ...  "
      ]
     },
     "execution_count": 27,
     "metadata": {},
     "output_type": "execute_result"
    }
   ],
   "source": [
    "df[['text', 'results']].head(3)"
   ]
  },
  {
   "cell_type": "code",
   "execution_count": 1,
   "metadata": {},
   "outputs": [
    {
     "name": "stdout",
     "output_type": "stream",
     "text": [
      "/home/busayo/busayo/asr_benchmarking\n"
     ]
    }
   ],
   "source": [
    "%cd ../"
   ]
  },
  {
   "cell_type": "code",
   "execution_count": 17,
   "metadata": {},
   "outputs": [],
   "source": [
    "from src.utils.text_processing import clean_multilingual_text, post_process_preds\n",
    "from src.utils.utils import write_pred_inference_df"
   ]
  },
  {
   "cell_type": "code",
   "execution_count": 21,
   "metadata": {},
   "outputs": [
    {
     "data": {
      "text/plain": [
       "Index(['speaker_id', 'reference', 'audio_path', 'duration', 'source',\n",
       "       'language', 'gender', 'hypothesis'],\n",
       "      dtype='object')"
      ]
     },
     "execution_count": 21,
     "metadata": {},
     "output_type": "execute_result"
    }
   ],
   "source": [
    "df = df.rename(columns={'results': 'hypothesis', 'text': 'reference'})\n",
    "df.columns"
   ]
  },
  {
   "cell_type": "code",
   "execution_count": 22,
   "metadata": {},
   "outputs": [],
   "source": [
    "df['hypothesis'] = df['hypothesis'].astype(str)"
   ]
  },
  {
   "cell_type": "code",
   "execution_count": 23,
   "metadata": {},
   "outputs": [
    {
     "name": "stdout",
     "output_type": "stream",
     "text": [
      "<class 'pandas.core.frame.DataFrame'>\n",
      "RangeIndex: 52537 entries, 0 to 52536\n",
      "Data columns (total 8 columns):\n",
      " #   Column      Non-Null Count  Dtype  \n",
      "---  ------      --------------  -----  \n",
      " 0   speaker_id  52374 non-null  object \n",
      " 1   reference   52537 non-null  object \n",
      " 2   audio_path  52537 non-null  object \n",
      " 3   duration    52537 non-null  float64\n",
      " 4   source      52537 non-null  object \n",
      " 5   language    52537 non-null  object \n",
      " 6   gender      52537 non-null  object \n",
      " 7   hypothesis  52537 non-null  object \n",
      "dtypes: float64(1), object(7)\n",
      "memory usage: 3.2+ MB\n"
     ]
    }
   ],
   "source": [
    "df.info()"
   ]
  },
  {
   "cell_type": "code",
   "execution_count": null,
   "metadata": {},
   "outputs": [],
   "source": []
  },
  {
   "cell_type": "code",
   "execution_count": 9,
   "metadata": {},
   "outputs": [
    {
     "name": "stdout",
     "output_type": "stream",
     "text": [
      "Cleanup WER: 64.59 %\n",
      "TextNormalizer WER: 64.59 %\n"
     ]
    }
   ],
   "source": [
    "all_wer = post_process_preds(df.copy(), non_english=True)"
   ]
  },
  {
   "cell_type": "code",
   "execution_count": 24,
   "metadata": {},
   "outputs": [
    {
     "name": "stdout",
     "output_type": "stream",
     "text": [
      "Cleanup WER: 111.44 %\n",
      "TextNormalizer WER: 111.44 %\n",
      "./results/open-source-full_test-gpt4o_preview-yoruba-wer-1.1144-4716.csv\n",
      "Cleanup WER: 130.09 %\n",
      "TextNormalizer WER: 130.09 %\n",
      "./results/open-source-full_test-gpt4o_preview-hausa-wer-1.3009-3874.csv\n",
      "Cleanup WER: 114.92 %\n",
      "TextNormalizer WER: 114.92 %\n",
      "./results/open-source-full_test-gpt4o_preview-igbo-wer-1.1492-3259.csv\n",
      "Cleanup WER: 453.10 %\n",
      "TextNormalizer WER: 453.10 %\n",
      "./results/open-source-full_test-gpt4o_preview-ga-wer-4.531-75.csv\n",
      "Cleanup WER: 110.19 %\n",
      "TextNormalizer WER: 110.19 %\n",
      "./results/open-source-full_test-gpt4o_preview-akan-wer-1.1019-1134.csv\n",
      "Cleanup WER: 106.77 %\n",
      "TextNormalizer WER: 106.77 %\n",
      "./results/open-source-full_test-gpt4o_preview-twi-wer-1.0677-510.csv\n",
      "Cleanup WER: 77.13 %\n",
      "TextNormalizer WER: 77.13 %\n",
      "./results/open-source-full_test-gpt4o_preview-afrikaans-wer-0.7713-4341.csv\n",
      "Cleanup WER: 249.22 %\n",
      "TextNormalizer WER: 249.22 %\n",
      "./results/open-source-full_test-gpt4o_preview-amharic-wer-2.4922-812.csv\n",
      "Cleanup WER: 56.93 %\n",
      "TextNormalizer WER: 56.93 %\n",
      "./results/open-source-full_test-gpt4o_preview-arabic-wer-0.5693-3714.csv\n",
      "Cleanup WER: 162.04 %\n",
      "TextNormalizer WER: 162.04 %\n",
      "./results/open-source-full_test-gpt4o_preview-fulani-wer-1.6204-83.csv\n",
      "Cleanup WER: 132.44 %\n",
      "TextNormalizer WER: 132.44 %\n",
      "./results/open-source-full_test-gpt4o_preview-luganda-wer-1.3244-2181.csv\n",
      "Cleanup WER: 125.96 %\n",
      "TextNormalizer WER: 125.96 %\n",
      "./results/open-source-full_test-gpt4o_preview-pedi-wer-1.2596-3297.csv\n",
      "Cleanup WER: 95.97 %\n",
      "TextNormalizer WER: 95.97 %\n",
      "./results/open-source-full_test-gpt4o_preview-shona-wer-0.9597-1553.csv\n",
      "Cleanup WER: 64.43 %\n",
      "TextNormalizer WER: 64.43 %\n",
      "./results/open-source-full_test-gpt4o_preview-swahili-wer-0.6443-3363.csv\n",
      "Cleanup WER: 133.90 %\n",
      "TextNormalizer WER: 133.90 %\n",
      "./results/open-source-full_test-gpt4o_preview-xhosa-wer-1.339-3335.csv\n",
      "Cleanup WER: 136.57 %\n",
      "TextNormalizer WER: 136.57 %\n",
      "./results/open-source-full_test-gpt4o_preview-zulu-wer-1.3657-3432.csv\n",
      "Cleanup WER: 157.81 %\n",
      "TextNormalizer WER: 157.81 %\n",
      "./results/open-source-full_test-gpt4o_preview-sesotho-wer-1.5781-4011.csv\n",
      "Cleanup WER: 135.79 %\n",
      "TextNormalizer WER: 135.79 %\n",
      "./results/open-source-full_test-gpt4o_preview-tswana-wer-1.3579-3668.csv\n",
      "Cleanup WER: 16.89 %\n",
      "TextNormalizer WER: 16.89 %\n",
      "./results/open-source-full_test-gpt4o_preview-french-wer-0.1689-1405.csv\n",
      "Cleanup WER: 147.77 %\n",
      "TextNormalizer WER: 147.77 %\n",
      "./results/open-source-full_test-gpt4o_preview-kinyarwanda-wer-1.4777-3774.csv\n"
     ]
    }
   ],
   "source": [
    "for lang in df.language.unique().tolist():\n",
    "    results = df[df['language'] == lang].copy()\n",
    "    all_wer = post_process_preds(results, non_english=True)\n",
    "    write_pred_inference_df(\"gpt4o_preview\", results, all_wer, language=lang, split=\"full_test\")"
   ]
  },
  {
   "cell_type": "code",
   "execution_count": 8,
   "metadata": {},
   "outputs": [
    {
     "data": {
      "text/plain": [
       "Index(['speaker_id', 'reference', 'audio_path', 'duration', 'source',\n",
       "       'language', 'gender', 'hypothesis', 'pred_clean', 'ref_clean', 'wer',\n",
       "       'hypothesis_clean', 'reference_clean'],\n",
       "      dtype='object')"
      ]
     },
     "execution_count": 8,
     "metadata": {},
     "output_type": "execute_result"
    }
   ],
   "source": [
    "df = pd.read_csv(\"/home/busayo/busayo/asr_benchmarking/results/open-source-full_test-gemini-2.0-flash-001-yoruba-wer-0.9131-4716.csv\")\n",
    "df.columns"
   ]
  },
  {
   "cell_type": "code",
   "execution_count": 31,
   "metadata": {},
   "outputs": [
    {
     "data": {
      "text/html": [
       "<div>\n",
       "<style scoped>\n",
       "    .dataframe tbody tr th:only-of-type {\n",
       "        vertical-align: middle;\n",
       "    }\n",
       "\n",
       "    .dataframe tbody tr th {\n",
       "        vertical-align: top;\n",
       "    }\n",
       "\n",
       "    .dataframe thead th {\n",
       "        text-align: right;\n",
       "    }\n",
       "</style>\n",
       "<table border=\"1\" class=\"dataframe\">\n",
       "  <thead>\n",
       "    <tr style=\"text-align: right;\">\n",
       "      <th></th>\n",
       "      <th>ref_clean</th>\n",
       "      <th>pred_clean</th>\n",
       "    </tr>\n",
       "  </thead>\n",
       "  <tbody>\n",
       "    <tr>\n",
       "      <th>0</th>\n",
       "      <td>ọmọ ọ jọ gbọ n fẹ yìntì ni mò ń fẹ</td>\n",
       "      <td>omo ojo gan feyinti ni mo nile</td>\n",
       "    </tr>\n",
       "    <tr>\n",
       "      <th>1</th>\n",
       "      <td>fayọ yóò ra sọ kẹ tì mẹ jọ ní ọjà</td>\n",
       "      <td>báyìi ọ yọ ga soketi ti mẹ jọ ni ọ jọ ni o já</td>\n",
       "    </tr>\n",
       "    <tr>\n",
       "      <th>2</th>\n",
       "      <td>àwọn ẹlòmíràn má a n yún ara won tí wón báti w...</td>\n",
       "      <td>àwọn ẹlòmíràn máa ń yún àre àwọn tí wọ n bá ti...</td>\n",
       "    </tr>\n",
       "    <tr>\n",
       "      <th>3</th>\n",
       "      <td>ìbáraẹnisọ rọ gbọ dọ wáyé láàrin ẹni méjì sí m...</td>\n",
       "      <td>ibara ìnísoro gbódò wà yé la rìn èni méji sí m...</td>\n",
       "    </tr>\n",
       "    <tr>\n",
       "      <th>4</th>\n",
       "      <td>olórí ilé ẹ kọ lọ kùnrin yóò bá àwọn akẹ kọ ọ ...</td>\n",
       "      <td>olori ile eko lokunrin yoo ba awon akeko soro ...</td>\n",
       "    </tr>\n",
       "    <tr>\n",
       "      <th>...</th>\n",
       "      <td>...</td>\n",
       "      <td>...</td>\n",
       "    </tr>\n",
       "    <tr>\n",
       "      <th>4711</th>\n",
       "      <td>ta ni o leè tún ọkọ òfurufú se</td>\n",
       "      <td>ẹ máa ní olè tó kó fún iléṣẹ</td>\n",
       "    </tr>\n",
       "    <tr>\n",
       "      <th>4712</th>\n",
       "      <td>àwọn onímọ nípa oúnjẹ ní o máà n ṣètò oúnjẹ àw...</td>\n",
       "      <td>awon oni imo nipa ounje ni won ma n se pipe ou...</td>\n",
       "    </tr>\n",
       "    <tr>\n",
       "      <th>4713</th>\n",
       "      <td>o gbúdò se ìbánikẹ dùn àti àdúrà fún olóògbé n...</td>\n",
       "      <td>ogbori ṣe ibanikẹdun ati àdúrà fún olúwa oloru...</td>\n",
       "    </tr>\n",
       "    <tr>\n",
       "      <th>4714</th>\n",
       "      <td>ọ mùtí ni bàbá bola</td>\n",
       "      <td>omugcini babakwena</td>\n",
       "    </tr>\n",
       "    <tr>\n",
       "      <th>4715</th>\n",
       "      <td>mo sọ fún àwọn obìnrin náà láti dáná</td>\n",
       "      <td>okay</td>\n",
       "    </tr>\n",
       "  </tbody>\n",
       "</table>\n",
       "<p>4716 rows × 2 columns</p>\n",
       "</div>"
      ],
      "text/plain": [
       "                                              ref_clean  \\\n",
       "0                   ọmọ ọ jọ gbọ n fẹ yìntì ni mò ń fẹ    \n",
       "1                    fayọ yóò ra sọ kẹ tì mẹ jọ ní ọjà    \n",
       "2     àwọn ẹlòmíràn má a n yún ara won tí wón báti w...   \n",
       "3     ìbáraẹnisọ rọ gbọ dọ wáyé láàrin ẹni méjì sí m...   \n",
       "4     olórí ilé ẹ kọ lọ kùnrin yóò bá àwọn akẹ kọ ọ ...   \n",
       "...                                                 ...   \n",
       "4711                    ta ni o leè tún ọkọ òfurufú se    \n",
       "4712  àwọn onímọ nípa oúnjẹ ní o máà n ṣètò oúnjẹ àw...   \n",
       "4713  o gbúdò se ìbánikẹ dùn àti àdúrà fún olóògbé n...   \n",
       "4714                                ọ mùtí ni bàbá bola   \n",
       "4715              mo sọ fún àwọn obìnrin náà láti dáná    \n",
       "\n",
       "                                             pred_clean  \n",
       "0                       omo ojo gan feyinti ni mo nile   \n",
       "1        báyìi ọ yọ ga soketi ti mẹ jọ ni ọ jọ ni o já   \n",
       "2     àwọn ẹlòmíràn máa ń yún àre àwọn tí wọ n bá ti...  \n",
       "3     ibara ìnísoro gbódò wà yé la rìn èni méji sí m...  \n",
       "4     olori ile eko lokunrin yoo ba awon akeko soro ...  \n",
       "...                                                 ...  \n",
       "4711                      ẹ máa ní olè tó kó fún iléṣẹ   \n",
       "4712  awon oni imo nipa ounje ni won ma n se pipe ou...  \n",
       "4713  ogbori ṣe ibanikẹdun ati àdúrà fún olúwa oloru...  \n",
       "4714                                 omugcini babakwena  \n",
       "4715                                              okay   \n",
       "\n",
       "[4716 rows x 2 columns]"
      ]
     },
     "execution_count": 31,
     "metadata": {},
     "output_type": "execute_result"
    }
   ],
   "source": [
    "df[['ref_clean', 'pred_clean']]"
   ]
  },
  {
   "cell_type": "code",
   "execution_count": 32,
   "metadata": {},
   "outputs": [
    {
     "data": {
      "text/plain": [
       "Index(['audio_id', 'audio_path', 'reference', 'hypothesis', 'pred_clean',\n",
       "       'ref_clean', 'wer', 'hypothesis_clean', 'reference_clean', 'source'],\n",
       "      dtype='object')"
      ]
     },
     "execution_count": 32,
     "metadata": {},
     "output_type": "execute_result"
    }
   ],
   "source": [
    "result = \"/home/busayo/busayo/asr_benchmarking/results/open-source-full_test-facebook-seamless-m4t-v2-large-afrikaans-wer-0.9969-4341.csv\"\n",
    "\n",
    "df = pd.read_csv(result)\n",
    "df.columns"
   ]
  },
  {
   "cell_type": "code",
   "execution_count": 37,
   "metadata": {},
   "outputs": [
    {
     "data": {
      "text/html": [
       "<div>\n",
       "<style scoped>\n",
       "    .dataframe tbody tr th:only-of-type {\n",
       "        vertical-align: middle;\n",
       "    }\n",
       "\n",
       "    .dataframe tbody tr th {\n",
       "        vertical-align: top;\n",
       "    }\n",
       "\n",
       "    .dataframe thead th {\n",
       "        text-align: right;\n",
       "    }\n",
       "</style>\n",
       "<table border=\"1\" class=\"dataframe\">\n",
       "  <thead>\n",
       "    <tr style=\"text-align: right;\">\n",
       "      <th></th>\n",
       "      <th>ref_clean</th>\n",
       "      <th>pred_clean</th>\n",
       "      <th>wer</th>\n",
       "    </tr>\n",
       "  </thead>\n",
       "  <tbody>\n",
       "    <tr>\n",
       "      <th>0</th>\n",
       "      <td>die united states geological survey se interna...</td>\n",
       "      <td>die verenigde state ge ologi ese survey se in...</td>\n",
       "      <td>0.823529</td>\n",
       "    </tr>\n",
       "    <tr>\n",
       "      <th>1</th>\n",
       "      <td>navorsing vind dat vrouens dubbeld so waarskyn...</td>\n",
       "      <td>nav ors ing vind dat vroue dub bel so waarsky...</td>\n",
       "      <td>0.500000</td>\n",
       "    </tr>\n",
       "    <tr>\n",
       "      <th>2</th>\n",
       "      <td>ekonomiese skakels is weer tussen hierdie twee...</td>\n",
       "      <td>ekonomi ese sk ak els is weer tussen hierdie ...</td>\n",
       "      <td>1.000000</td>\n",
       "    </tr>\n",
       "    <tr>\n",
       "      <th>3</th>\n",
       "      <td>wilde diere kan skaam of aggressief wees die o...</td>\n",
       "      <td>wilde diere kan ska am of aggress ief wees di...</td>\n",
       "      <td>0.750000</td>\n",
       "    </tr>\n",
       "    <tr>\n",
       "      <th>4</th>\n",
       "      <td>maar die verbruikersmark rakend skootrekenaars...</td>\n",
       "      <td>maar die verbru ikers mark rak ende sko otre ...</td>\n",
       "      <td>0.966667</td>\n",
       "    </tr>\n",
       "    <tr>\n",
       "      <th>...</th>\n",
       "      <td>...</td>\n",
       "      <td>...</td>\n",
       "      <td>...</td>\n",
       "    </tr>\n",
       "    <tr>\n",
       "      <th>4336</th>\n",
       "      <td>tor sal nie net byna alle nasionale sensuur om...</td>\n",
       "      <td>tor sal nie net byna alle nasionale sens ors ...</td>\n",
       "      <td>0.476190</td>\n",
       "    </tr>\n",
       "    <tr>\n",
       "      <th>4337</th>\n",
       "      <td>maar wanneer die mafia kom verander hulle van ...</td>\n",
       "      <td>maar wanneer die maf ia kom verander hulle va...</td>\n",
       "      <td>2.545455</td>\n",
       "    </tr>\n",
       "    <tr>\n",
       "      <th>4338</th>\n",
       "      <td>dit was hoe advokaat adio baklei het en uitein...</td>\n",
       "      <td>dit was hoe adv oka at ad jo bak lei het en u...</td>\n",
       "      <td>0.500000</td>\n",
       "    </tr>\n",
       "    <tr>\n",
       "      <th>4339</th>\n",
       "      <td>wat die oordragtempo betref wat deur epidemiol...</td>\n",
       "      <td>wat die o ord rag tem po bet ref wat deur die...</td>\n",
       "      <td>0.566038</td>\n",
       "    </tr>\n",
       "    <tr>\n",
       "      <th>4340</th>\n",
       "      <td>die storie van die renosterkop is op 16 novemb...</td>\n",
       "      <td>die storie van die r oster kop is op s esti e...</td>\n",
       "      <td>1.300000</td>\n",
       "    </tr>\n",
       "  </tbody>\n",
       "</table>\n",
       "<p>4341 rows × 3 columns</p>\n",
       "</div>"
      ],
      "text/plain": [
       "                                              ref_clean  \\\n",
       "0     die united states geological survey se interna...   \n",
       "1     navorsing vind dat vrouens dubbeld so waarskyn...   \n",
       "2     ekonomiese skakels is weer tussen hierdie twee...   \n",
       "3     wilde diere kan skaam of aggressief wees die o...   \n",
       "4     maar die verbruikersmark rakend skootrekenaars...   \n",
       "...                                                 ...   \n",
       "4336  tor sal nie net byna alle nasionale sensuur om...   \n",
       "4337  maar wanneer die mafia kom verander hulle van ...   \n",
       "4338  dit was hoe advokaat adio baklei het en uitein...   \n",
       "4339  wat die oordragtempo betref wat deur epidemiol...   \n",
       "4340  die storie van die renosterkop is op 16 novemb...   \n",
       "\n",
       "                                             pred_clean       wer  \n",
       "0      die verenigde state ge ologi ese survey se in...  0.823529  \n",
       "1      nav ors ing vind dat vroue dub bel so waarsky...  0.500000  \n",
       "2      ekonomi ese sk ak els is weer tussen hierdie ...  1.000000  \n",
       "3      wilde diere kan ska am of aggress ief wees di...  0.750000  \n",
       "4      maar die verbru ikers mark rak ende sko otre ...  0.966667  \n",
       "...                                                 ...       ...  \n",
       "4336   tor sal nie net byna alle nasionale sens ors ...  0.476190  \n",
       "4337   maar wanneer die maf ia kom verander hulle va...  2.545455  \n",
       "4338   dit was hoe adv oka at ad jo bak lei het en u...  0.500000  \n",
       "4339   wat die o ord rag tem po bet ref wat deur die...  0.566038  \n",
       "4340   die storie van die r oster kop is op s esti e...  1.300000  \n",
       "\n",
       "[4341 rows x 3 columns]"
      ]
     },
     "execution_count": 37,
     "metadata": {},
     "output_type": "execute_result"
    }
   ],
   "source": [
    "df[['ref_clean', 'pred_clean', 'wer']]"
   ]
  },
  {
   "cell_type": "code",
   "execution_count": 35,
   "metadata": {},
   "outputs": [
    {
     "data": {
      "text/html": [
       "<div>\n",
       "<style scoped>\n",
       "    .dataframe tbody tr th:only-of-type {\n",
       "        vertical-align: middle;\n",
       "    }\n",
       "\n",
       "    .dataframe tbody tr th {\n",
       "        vertical-align: top;\n",
       "    }\n",
       "\n",
       "    .dataframe thead th {\n",
       "        text-align: right;\n",
       "    }\n",
       "</style>\n",
       "<table border=\"1\" class=\"dataframe\">\n",
       "  <thead>\n",
       "    <tr style=\"text-align: right;\">\n",
       "      <th></th>\n",
       "      <th>ref_clean</th>\n",
       "      <th>pred_clean</th>\n",
       "      <th>wer</th>\n",
       "    </tr>\n",
       "  </thead>\n",
       "  <tbody>\n",
       "    <tr>\n",
       "      <th>1627</th>\n",
       "      <td>projekgekoppelde subsidie institusionele</td>\n",
       "      <td>projek gek opp elde subsidi es institus ionele</td>\n",
       "      <td>2.666667</td>\n",
       "    </tr>\n",
       "    <tr>\n",
       "      <th>1074</th>\n",
       "      <td>uiteensit waaraan diens</td>\n",
       "      <td>uit een sit waar aan diens</td>\n",
       "      <td>1.666667</td>\n",
       "    </tr>\n",
       "    <tr>\n",
       "      <th>1098</th>\n",
       "      <td>hantering voorbereiding bediening</td>\n",
       "      <td>hand eling vo orb ere iding b edi ening</td>\n",
       "      <td>3.000000</td>\n",
       "    </tr>\n",
       "    <tr>\n",
       "      <th>4240</th>\n",
       "      <td>labake het die deur van die kamer saggies agte...</td>\n",
       "      <td>r yk ontvang met n son n ige en vr ol ike gli...</td>\n",
       "      <td>0.961538</td>\n",
       "    </tr>\n",
       "    <tr>\n",
       "      <th>2977</th>\n",
       "      <td>afvalwater sluit huishoudelike</td>\n",
       "      <td>af val water sluit huisho ud elike</td>\n",
       "      <td>2.000000</td>\n",
       "    </tr>\n",
       "    <tr>\n",
       "      <th>1217</th>\n",
       "      <td>mededingendheidsverbeteringsteun omgewingsbest...</td>\n",
       "      <td>med eding end heids verb eter ings steun om g...</td>\n",
       "      <td>7.333333</td>\n",
       "    </tr>\n",
       "    <tr>\n",
       "      <th>877</th>\n",
       "      <td>visvangsregte aansoek doen</td>\n",
       "      <td>vis vang s reg te aansoek doen</td>\n",
       "      <td>1.666667</td>\n",
       "    </tr>\n",
       "  </tbody>\n",
       "</table>\n",
       "</div>"
      ],
      "text/plain": [
       "                                              ref_clean  \\\n",
       "1627           projekgekoppelde subsidie institusionele   \n",
       "1074                            uiteensit waaraan diens   \n",
       "1098                  hantering voorbereiding bediening   \n",
       "4240  labake het die deur van die kamer saggies agte...   \n",
       "2977                     afvalwater sluit huishoudelike   \n",
       "1217  mededingendheidsverbeteringsteun omgewingsbest...   \n",
       "877                          visvangsregte aansoek doen   \n",
       "\n",
       "                                             pred_clean       wer  \n",
       "1627    projek gek opp elde subsidi es institus ionele   2.666667  \n",
       "1074                        uit een sit waar aan diens   1.666667  \n",
       "1098           hand eling vo orb ere iding b edi ening   3.000000  \n",
       "4240   r yk ontvang met n son n ige en vr ol ike gli...  0.961538  \n",
       "2977                af val water sluit huisho ud elike   2.000000  \n",
       "1217   med eding end heids verb eter ings steun om g...  7.333333  \n",
       "877                     vis vang s reg te aansoek doen   1.666667  "
      ]
     },
     "execution_count": 35,
     "metadata": {},
     "output_type": "execute_result"
    }
   ],
   "source": [
    "df[['ref_clean', 'pred_clean', 'wer']].sample(7)"
   ]
  },
  {
   "cell_type": "code",
   "execution_count": null,
   "metadata": {},
   "outputs": [],
   "source": []
  },
  {
   "cell_type": "markdown",
   "metadata": {},
   "source": [
    "## Error Analysis (Error sampling)"
   ]
  },
  {
   "cell_type": "code",
   "execution_count": 3,
   "metadata": {},
   "outputs": [],
   "source": [
    "files = os.listdir('results')"
   ]
  },
  {
   "cell_type": "code",
   "execution_count": 4,
   "metadata": {},
   "outputs": [
    {
     "data": {
      "text/plain": [
       "8"
      ]
     },
     "execution_count": 4,
     "metadata": {},
     "output_type": "execute_result"
    }
   ],
   "source": [
    "french = [os.path.join(\"results\", x) for x in files if \"french\" in x]\n",
    "len(french)\n"
   ]
  },
  {
   "cell_type": "code",
   "execution_count": 8,
   "metadata": {},
   "outputs": [],
   "source": [
    "def sample_error(df: pd.DataFrame, threshold: float=0.3):\n",
    "    df = df.rename(columns={'audio_id':\"speaker_id\"})\n",
    "    error_df = df[df['wer'] >= threshold].copy()\n",
    "    error_df['wer_bins'] = pd.qcut(error_df['wer'], q=5)\n",
    "    sampled_bins = error_df.groupby('wer_bins').apply(lambda x: x.sample(n=2, random_state=42)).reset_index(drop=True)\n",
    "    return sampled_bins[['speaker_id', 'audio_path', 'reference', 'hypothesis', 'pred_clean', 'ref_clean', 'wer']]"
   ]
  },
  {
   "cell_type": "code",
   "execution_count": 17,
   "metadata": {},
   "outputs": [
    {
     "data": {
      "text/plain": [
       "['results/open-source-full_test-nvidia-canary-1b-french-wer-0.1454-1405.csv',\n",
       " 'results/open-source-full_test-facebook-seamless-m4t-v2-large-french-wer-0.5836-1405.csv',\n",
       " 'results/open-source-full_test-openai-whisper-medium-french-wer-0.1901-1405.csv',\n",
       " 'results/open-source-full_test-openai-whisper-large-v3-french-wer-0.1325-1405.csv',\n",
       " 'results/open-source-full_test-gemini-2.0-flash-001-french-wer-0.1142-1405.csv',\n",
       " 'results/open-source-full_test-gpt4o_preview-french-wer-0.1689-1405.csv',\n",
       " 'results/open-source-full_test-facebook-hf-seamless-m4t-large-french-wer-0.6168-1405.csv',\n",
       " 'results/open-source-full_test-facebook-mms-1b-all-french-wer-0.4475-1405.csv']"
      ]
     },
     "execution_count": 17,
     "metadata": {},
     "output_type": "execute_result"
    }
   ],
   "source": [
    "french"
   ]
  },
  {
   "cell_type": "code",
   "execution_count": 6,
   "metadata": {},
   "outputs": [],
   "source": [
    "def map_model_to_csv(file):\n",
    "    if 'canary' in file:\n",
    "        return 'canary-1b'\n",
    "    elif 'seamless-m4t-v2-large' in file:\n",
    "        return 'seamless-m4t-v2-large'\n",
    "    elif 'whisper-medium' in file:\n",
    "        return 'whisper-medium'\n",
    "    elif 'whisper-large-v3' in file:\n",
    "        return 'whisper-large-v3'\n",
    "    elif 'gemini-2.0-flash-001' in file:\n",
    "        return 'gemini-2.0-flash-001'\n",
    "    elif 'gpt4o_preview' in file:\n",
    "        return 'gpt4o_preview'\n",
    "    elif 'hf-seamless-m4t-large' in file:\n",
    "        return 'hf-seamless-m4t-large'\n",
    "    elif 'mms-1b-all' in file:\n",
    "        return 'mms-1b-all'\n",
    "    else:\n",
    "        raise Exception(\"Unknown model\")"
   ]
  },
  {
   "cell_type": "code",
   "execution_count": 9,
   "metadata": {},
   "outputs": [
    {
     "name": "stdout",
     "output_type": "stream",
     "text": [
      "Samples shape: (80, 8)\n"
     ]
    }
   ],
   "source": [
    "\n",
    "\n",
    "for lang in language_list:\n",
    "    lang_csvs =  [os.path.join(\"results\", x) for x in files if lang in x]\n",
    "    samples = pd.DataFrame()\n",
    "    for file in lang_csvs:\n",
    "        try:\n",
    "            df = pd.read_csv(file)\n",
    "            df = sample_error(df, threshold=0.3)\n",
    "            df['model_name'] = map_model_to_csv(file)\n",
    "            samples = pd.concat([samples, df])\n",
    "        except:\n",
    "            print(file)\n",
    "    print(f\"Samples shape: {samples.shape}\")\n",
    "\n",
    "    "
   ]
  },
  {
   "cell_type": "code",
   "execution_count": null,
   "metadata": {},
   "outputs": [],
   "source": []
  }
 ],
 "metadata": {
  "kernelspec": {
   "display_name": "asr_benchmark",
   "language": "python",
   "name": "python3"
  },
  "language_info": {
   "codemirror_mode": {
    "name": "ipython",
    "version": 3
   },
   "file_extension": ".py",
   "mimetype": "text/x-python",
   "name": "python",
   "nbconvert_exporter": "python",
   "pygments_lexer": "ipython3",
   "version": "3.10.16"
  }
 },
 "nbformat": 4,
 "nbformat_minor": 2
}
