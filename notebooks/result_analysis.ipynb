{
 "cells": [
  {
   "cell_type": "code",
   "execution_count": 1,
   "metadata": {},
   "outputs": [],
   "source": [
    "import os\n",
    "import pandas as pd\n",
    "from tqdm import tqdm\n",
    "import shutil"
   ]
  },
  {
   "cell_type": "markdown",
   "metadata": {},
   "source": [
    "## Adding Source"
   ]
  },
  {
   "cell_type": "code",
   "execution_count": 2,
   "metadata": {},
   "outputs": [],
   "source": [
    "result_list = os.listdir('../mls_results')"
   ]
  },
  {
   "cell_type": "code",
   "execution_count": 3,
   "metadata": {},
   "outputs": [],
   "source": [
    "directory = \"/home/busayo/busayo/asr_benchmarking/mls_results\""
   ]
  },
  {
   "cell_type": "code",
   "execution_count": 4,
   "metadata": {},
   "outputs": [],
   "source": [
    "mls_df = pd.read_csv(\"/home/busayo/busayo/asr_benchmarking/data/mls_data_index.csv\")"
   ]
  },
  {
   "cell_type": "code",
   "execution_count": 5,
   "metadata": {},
   "outputs": [],
   "source": [
    "sources = mls_df['source'].unique().tolist()"
   ]
  },
  {
   "cell_type": "code",
   "execution_count": 6,
   "metadata": {},
   "outputs": [
    {
     "data": {
      "text/plain": [
       "['naijavoices',\n",
       " 'Ashesi-Org_Financial-Inclusion-Speech-Dataset',\n",
       " 'fleurs',\n",
       " 'NCHLT',\n",
       " 'openslr-african_accented_french',\n",
       " 'ALFFA',\n",
       " 'common_voice',\n",
       " 'intron-MT',\n",
       " 'bible_tts']"
      ]
     },
     "execution_count": 6,
     "metadata": {},
     "output_type": "execute_result"
    }
   ],
   "source": [
    "sources"
   ]
  },
  {
   "cell_type": "code",
   "execution_count": 6,
   "metadata": {},
   "outputs": [],
   "source": [
    "def get_source(path):\n",
    "    if 'naijavoices' in path:\n",
    "        return 'naijavoices'\n",
    "    elif 'fisd' in path:\n",
    "        return 'Ashesi-Org_Financial-Inclusion-Speech-Dataset'\n",
    "    elif 'fleurs' in path:\n",
    "        return 'fleurs'\n",
    "    elif 'nchlt' in path:\n",
    "        return 'NCHLT'\n",
    "    elif  'accented_french' in path:\n",
    "        return 'openslr-african_accented_french'\n",
    "    elif 'ALFFA' in path:\n",
    "        return 'ALFFA'\n",
    "    elif 'common_voice':\n",
    "        return 'common_voice'\n",
    "    elif 'intron_mt' in path:\n",
    "        return 'intron-MT'\n",
    "    elif 'bible_tts' in path:\n",
    "        return 'bible_tts'\n",
    "    else:\n",
    "        raise \"Unknown source\""
   ]
  },
  {
   "cell_type": "code",
   "execution_count": 7,
   "metadata": {},
   "outputs": [
    {
     "data": {
      "text/plain": [
       "'fleurs'"
      ]
     },
     "execution_count": 7,
     "metadata": {},
     "output_type": "execute_result"
    }
   ],
   "source": [
    "get_source('/data/fleurs/amharic/13576155338721748992.wav')"
   ]
  },
  {
   "cell_type": "code",
   "execution_count": 9,
   "metadata": {},
   "outputs": [],
   "source": [
    "for i in range(len(result_list)):\n",
    "    df = pd.read_csv(os.path.join(directory, result_list[i]))\n",
    "    df['source'] = df['audio_path'].apply(lambda x: get_source(x))\n",
    "    df.to_csv(os.path.join(\"/home/busayo/busayo/asr_benchmarking/results\", result_list[i]), index=False)"
   ]
  },
  {
   "cell_type": "code",
   "execution_count": 10,
   "metadata": {},
   "outputs": [
    {
     "data": {
      "text/html": [
       "<div>\n",
       "<style scoped>\n",
       "    .dataframe tbody tr th:only-of-type {\n",
       "        vertical-align: middle;\n",
       "    }\n",
       "\n",
       "    .dataframe tbody tr th {\n",
       "        vertical-align: top;\n",
       "    }\n",
       "\n",
       "    .dataframe thead th {\n",
       "        text-align: right;\n",
       "    }\n",
       "</style>\n",
       "<table border=\"1\" class=\"dataframe\">\n",
       "  <thead>\n",
       "    <tr style=\"text-align: right;\">\n",
       "      <th></th>\n",
       "      <th>audio_id</th>\n",
       "      <th>audio_path</th>\n",
       "      <th>reference</th>\n",
       "      <th>hypothesis</th>\n",
       "      <th>pred_clean</th>\n",
       "      <th>ref_clean</th>\n",
       "      <th>wer</th>\n",
       "      <th>hypothesis_clean</th>\n",
       "      <th>reference_clean</th>\n",
       "      <th>source</th>\n",
       "    </tr>\n",
       "  </thead>\n",
       "  <tbody>\n",
       "    <tr>\n",
       "      <th>0</th>\n",
       "      <td>3797</td>\n",
       "      <td>/data/fleurs/shona/15890632532184093855.wav</td>\n",
       "      <td>tingati 20 muzana yemvura inodira mumakungwa e...</td>\n",
       "      <td>ndingaiti 20 muzana yemvura inodira mumakungwa...</td>\n",
       "      <td>ndingaiti 20 muzana yemvura inodira mumakungwa...</td>\n",
       "      <td>tingati 20 muzana yemvura inodira mumakungwa e...</td>\n",
       "      <td>0.333333</td>\n",
       "      <td>ndingaiti 20 muzana yemvura inodira mumakungwa...</td>\n",
       "      <td>tingati 20 muzana yemvura inodira mumakungwa e...</td>\n",
       "      <td>fleurs</td>\n",
       "    </tr>\n",
       "    <tr>\n",
       "      <th>1</th>\n",
       "      <td>3798</td>\n",
       "      <td>/data/fleurs/shona/5357191176914220862.wav</td>\n",
       "      <td>tingati 20 muzana yemvura inodira mumakungwa e...</td>\n",
       "      <td>tingati 20 muzana yemvura inodira mumakungwa e...</td>\n",
       "      <td>tingati 20 muzana yemvura inodira mumakungwa e...</td>\n",
       "      <td>tingati 20 muzana yemvura inodira mumakungwa e...</td>\n",
       "      <td>0.166667</td>\n",
       "      <td>tingati 20 muzana yemvura inodira mumakungwa e...</td>\n",
       "      <td>tingati 20 muzana yemvura inodira mumakungwa e...</td>\n",
       "      <td>fleurs</td>\n",
       "    </tr>\n",
       "    <tr>\n",
       "      <th>2</th>\n",
       "      <td>3799</td>\n",
       "      <td>/data/fleurs/shona/14354134452878529745.wav</td>\n",
       "      <td>nezuro martelly akaita mhiko yekupinda muprovi...</td>\n",
       "      <td>mezuromatley akaita mhiko yekupinda muprofisio...</td>\n",
       "      <td>mezuromatley akaita mhiko yekupinda muprofisio...</td>\n",
       "      <td>nezuro martelly akaita mhiko yekupinda muprovi...</td>\n",
       "      <td>0.384615</td>\n",
       "      <td>mezuromatley akaita mhiko yekupinda muprofisio...</td>\n",
       "      <td>nezuro martelly akaita mhiko yekupinda muprovi...</td>\n",
       "      <td>fleurs</td>\n",
       "    </tr>\n",
       "    <tr>\n",
       "      <th>3</th>\n",
       "      <td>3800</td>\n",
       "      <td>/data/fleurs/shona/9569619627876551134.wav</td>\n",
       "      <td>nezuro martelly akaita mhiko yekupinda muprovi...</td>\n",
       "      <td>nezuro mutleyy akaita mhiko yekupinda muprovis...</td>\n",
       "      <td>nezuro mutleyy akaita mhiko yekupinda muprovis...</td>\n",
       "      <td>nezuro martelly akaita mhiko yekupinda muprovi...</td>\n",
       "      <td>0.230769</td>\n",
       "      <td>nezuro mutleyy akaita mhiko yekupinda muprovis...</td>\n",
       "      <td>nezuro martelly akaita mhiko yekupinda muprovi...</td>\n",
       "      <td>fleurs</td>\n",
       "    </tr>\n",
       "    <tr>\n",
       "      <th>4</th>\n",
       "      <td>3801</td>\n",
       "      <td>/data/fleurs/shona/2639609103058470532.wav</td>\n",
       "      <td>kusvika pana 1976 makumi matatu kubva muzana e...</td>\n",
       "      <td>kusvika pana 1976 makumi matatu kubva muzana e...</td>\n",
       "      <td>kusvika pana 1976 makumi matatu kubva muzana e...</td>\n",
       "      <td>kusvika pana 1976 makumi matatu kubva muzana e...</td>\n",
       "      <td>0.058824</td>\n",
       "      <td>kusvika pana 1976 makumi matatu kubva muzana e...</td>\n",
       "      <td>kusvika pana 1976 makumi matatu kubva muzana e...</td>\n",
       "      <td>fleurs</td>\n",
       "    </tr>\n",
       "    <tr>\n",
       "      <th>...</th>\n",
       "      <td>...</td>\n",
       "      <td>...</td>\n",
       "      <td>...</td>\n",
       "      <td>...</td>\n",
       "      <td>...</td>\n",
       "      <td>...</td>\n",
       "      <td>...</td>\n",
       "      <td>...</td>\n",
       "      <td>...</td>\n",
       "      <td>...</td>\n",
       "    </tr>\n",
       "    <tr>\n",
       "      <th>1548</th>\n",
       "      <td>42357</td>\n",
       "      <td>/data/intron_mt/shona/fe26cf2756c778f36dbc1170...</td>\n",
       "      <td>Ndezvipi zvingasarudzwa pakurapwa kwandinogona...</td>\n",
       "      <td>ndezvipi zvingasarudzwa pakurapa kwandinogona ...</td>\n",
       "      <td>ndezvipi zvingasarudzwa pakurapa kwandinogona ...</td>\n",
       "      <td>ndezvipi zvingasarudzwa pakurapwa kwandinogona...</td>\n",
       "      <td>0.363636</td>\n",
       "      <td>ndezvipi zvingasarudzwa pakurapa kwandinogona ...</td>\n",
       "      <td>ndezvipi zvingasarudzwa pakurapwa kwandinogona...</td>\n",
       "      <td>common_voice</td>\n",
       "    </tr>\n",
       "    <tr>\n",
       "      <th>1549</th>\n",
       "      <td>42358</td>\n",
       "      <td>/data/intron_mt/shona/79ebbf5f2747a8768e491b5e...</td>\n",
       "      <td>Uyewo, ndine carpel tunnel mumaoko ose ari mav...</td>\n",
       "      <td>uyewo ndine carpal tannel mumaoko ose ari mavi...</td>\n",
       "      <td>uyewo ndine carpal tannel mumaoko ose ari mavi...</td>\n",
       "      <td>uyewo ndine carpel tunnel mumaoko ose ari mavi...</td>\n",
       "      <td>0.440000</td>\n",
       "      <td>uyewo ndine carpal tannel mumaoko ose ari mavi...</td>\n",
       "      <td>uyewo ndine carpel tunnel mumaoko ose ari mavi...</td>\n",
       "      <td>common_voice</td>\n",
       "    </tr>\n",
       "    <tr>\n",
       "      <th>1550</th>\n",
       "      <td>42359</td>\n",
       "      <td>/data/intron_mt/shona/e9b264382943e104ce2ec22d...</td>\n",
       "      <td>Akandipa mishonga inorwisa mabhakitiriya uye h...</td>\n",
       "      <td>akandipa mishonga inorwisa mabhakiteria uye ho...</td>\n",
       "      <td>akandipa mishonga inorwisa mabhakiteria uye ho...</td>\n",
       "      <td>akandipa mishonga inorwisa mabhakitiriya uye h...</td>\n",
       "      <td>0.476190</td>\n",
       "      <td>akandipa mishonga inorwisa mabhakiteria uye ho...</td>\n",
       "      <td>akandipa mishonga inorwisa mabhakitiriya uye h...</td>\n",
       "      <td>common_voice</td>\n",
       "    </tr>\n",
       "    <tr>\n",
       "      <th>1551</th>\n",
       "      <td>42360</td>\n",
       "      <td>/data/intron_mt/shona/1b4ecf10091079c06545dca4...</td>\n",
       "      <td>Zvimwe zvose zvakanga zviri mukati memwero wen...</td>\n",
       "      <td>zvimwe zvose zvakanga zviri mukati memwero wen...</td>\n",
       "      <td>zvimwe zvose zvakanga zviri mukati memwero wen...</td>\n",
       "      <td>zvimwe zvose zvakanga zviri mukati memwero wen...</td>\n",
       "      <td>0.161290</td>\n",
       "      <td>zvimwe zvose zvakanga zviri mukati memwero wen...</td>\n",
       "      <td>zvimwe zvose zvakanga zviri mukati memwero wen...</td>\n",
       "      <td>common_voice</td>\n",
       "    </tr>\n",
       "    <tr>\n",
       "      <th>1552</th>\n",
       "      <td>42361</td>\n",
       "      <td>/data/intron_mt/shona/8fef8b281aed073ad098cfbf...</td>\n",
       "      <td>Pandakamupinza mukati kuti anditarise, zvaiita...</td>\n",
       "      <td>pandakamupinza mukati kuti anditarise zvaiita ...</td>\n",
       "      <td>pandakamupinza mukati kuti anditarise zvaiita ...</td>\n",
       "      <td>pandakamupinza mukati kuti anditarise zvaiita ...</td>\n",
       "      <td>0.400000</td>\n",
       "      <td>pandakamupinza mukati kuti anditarise zvaiita ...</td>\n",
       "      <td>pandakamupinza mukati kuti anditarise zvaiita ...</td>\n",
       "      <td>common_voice</td>\n",
       "    </tr>\n",
       "  </tbody>\n",
       "</table>\n",
       "<p>1553 rows × 10 columns</p>\n",
       "</div>"
      ],
      "text/plain": [
       "      audio_id                                         audio_path  \\\n",
       "0         3797        /data/fleurs/shona/15890632532184093855.wav   \n",
       "1         3798         /data/fleurs/shona/5357191176914220862.wav   \n",
       "2         3799        /data/fleurs/shona/14354134452878529745.wav   \n",
       "3         3800         /data/fleurs/shona/9569619627876551134.wav   \n",
       "4         3801         /data/fleurs/shona/2639609103058470532.wav   \n",
       "...        ...                                                ...   \n",
       "1548     42357  /data/intron_mt/shona/fe26cf2756c778f36dbc1170...   \n",
       "1549     42358  /data/intron_mt/shona/79ebbf5f2747a8768e491b5e...   \n",
       "1550     42359  /data/intron_mt/shona/e9b264382943e104ce2ec22d...   \n",
       "1551     42360  /data/intron_mt/shona/1b4ecf10091079c06545dca4...   \n",
       "1552     42361  /data/intron_mt/shona/8fef8b281aed073ad098cfbf...   \n",
       "\n",
       "                                              reference  \\\n",
       "0     tingati 20 muzana yemvura inodira mumakungwa e...   \n",
       "1     tingati 20 muzana yemvura inodira mumakungwa e...   \n",
       "2     nezuro martelly akaita mhiko yekupinda muprovi...   \n",
       "3     nezuro martelly akaita mhiko yekupinda muprovi...   \n",
       "4     kusvika pana 1976 makumi matatu kubva muzana e...   \n",
       "...                                                 ...   \n",
       "1548  Ndezvipi zvingasarudzwa pakurapwa kwandinogona...   \n",
       "1549  Uyewo, ndine carpel tunnel mumaoko ose ari mav...   \n",
       "1550  Akandipa mishonga inorwisa mabhakitiriya uye h...   \n",
       "1551  Zvimwe zvose zvakanga zviri mukati memwero wen...   \n",
       "1552  Pandakamupinza mukati kuti anditarise, zvaiita...   \n",
       "\n",
       "                                             hypothesis  \\\n",
       "0     ndingaiti 20 muzana yemvura inodira mumakungwa...   \n",
       "1     tingati 20 muzana yemvura inodira mumakungwa e...   \n",
       "2     mezuromatley akaita mhiko yekupinda muprofisio...   \n",
       "3     nezuro mutleyy akaita mhiko yekupinda muprovis...   \n",
       "4     kusvika pana 1976 makumi matatu kubva muzana e...   \n",
       "...                                                 ...   \n",
       "1548  ndezvipi zvingasarudzwa pakurapa kwandinogona ...   \n",
       "1549  uyewo ndine carpal tannel mumaoko ose ari mavi...   \n",
       "1550  akandipa mishonga inorwisa mabhakiteria uye ho...   \n",
       "1551  zvimwe zvose zvakanga zviri mukati memwero wen...   \n",
       "1552  pandakamupinza mukati kuti anditarise zvaiita ...   \n",
       "\n",
       "                                             pred_clean  \\\n",
       "0     ndingaiti 20 muzana yemvura inodira mumakungwa...   \n",
       "1     tingati 20 muzana yemvura inodira mumakungwa e...   \n",
       "2     mezuromatley akaita mhiko yekupinda muprofisio...   \n",
       "3     nezuro mutleyy akaita mhiko yekupinda muprovis...   \n",
       "4     kusvika pana 1976 makumi matatu kubva muzana e...   \n",
       "...                                                 ...   \n",
       "1548  ndezvipi zvingasarudzwa pakurapa kwandinogona ...   \n",
       "1549  uyewo ndine carpal tannel mumaoko ose ari mavi...   \n",
       "1550  akandipa mishonga inorwisa mabhakiteria uye ho...   \n",
       "1551  zvimwe zvose zvakanga zviri mukati memwero wen...   \n",
       "1552  pandakamupinza mukati kuti anditarise zvaiita ...   \n",
       "\n",
       "                                              ref_clean       wer  \\\n",
       "0     tingati 20 muzana yemvura inodira mumakungwa e...  0.333333   \n",
       "1     tingati 20 muzana yemvura inodira mumakungwa e...  0.166667   \n",
       "2     nezuro martelly akaita mhiko yekupinda muprovi...  0.384615   \n",
       "3     nezuro martelly akaita mhiko yekupinda muprovi...  0.230769   \n",
       "4     kusvika pana 1976 makumi matatu kubva muzana e...  0.058824   \n",
       "...                                                 ...       ...   \n",
       "1548  ndezvipi zvingasarudzwa pakurapwa kwandinogona...  0.363636   \n",
       "1549  uyewo ndine carpel tunnel mumaoko ose ari mavi...  0.440000   \n",
       "1550  akandipa mishonga inorwisa mabhakitiriya uye h...  0.476190   \n",
       "1551  zvimwe zvose zvakanga zviri mukati memwero wen...  0.161290   \n",
       "1552  pandakamupinza mukati kuti anditarise zvaiita ...  0.400000   \n",
       "\n",
       "                                       hypothesis_clean  \\\n",
       "0     ndingaiti 20 muzana yemvura inodira mumakungwa...   \n",
       "1     tingati 20 muzana yemvura inodira mumakungwa e...   \n",
       "2     mezuromatley akaita mhiko yekupinda muprofisio...   \n",
       "3     nezuro mutleyy akaita mhiko yekupinda muprovis...   \n",
       "4     kusvika pana 1976 makumi matatu kubva muzana e...   \n",
       "...                                                 ...   \n",
       "1548  ndezvipi zvingasarudzwa pakurapa kwandinogona ...   \n",
       "1549  uyewo ndine carpal tannel mumaoko ose ari mavi...   \n",
       "1550  akandipa mishonga inorwisa mabhakiteria uye ho...   \n",
       "1551  zvimwe zvose zvakanga zviri mukati memwero wen...   \n",
       "1552  pandakamupinza mukati kuti anditarise zvaiita ...   \n",
       "\n",
       "                                        reference_clean        source  \n",
       "0     tingati 20 muzana yemvura inodira mumakungwa e...        fleurs  \n",
       "1     tingati 20 muzana yemvura inodira mumakungwa e...        fleurs  \n",
       "2     nezuro martelly akaita mhiko yekupinda muprovi...        fleurs  \n",
       "3     nezuro martelly akaita mhiko yekupinda muprovi...        fleurs  \n",
       "4     kusvika pana 1976 makumi matatu kubva muzana e...        fleurs  \n",
       "...                                                 ...           ...  \n",
       "1548  ndezvipi zvingasarudzwa pakurapwa kwandinogona...  common_voice  \n",
       "1549  uyewo ndine carpel tunnel mumaoko ose ari mavi...  common_voice  \n",
       "1550  akandipa mishonga inorwisa mabhakitiriya uye h...  common_voice  \n",
       "1551  zvimwe zvose zvakanga zviri mukati memwero wen...  common_voice  \n",
       "1552  pandakamupinza mukati kuti anditarise zvaiita ...  common_voice  \n",
       "\n",
       "[1553 rows x 10 columns]"
      ]
     },
     "execution_count": 10,
     "metadata": {},
     "output_type": "execute_result"
    }
   ],
   "source": [
    "df"
   ]
  },
  {
   "cell_type": "markdown",
   "metadata": {},
   "source": [
    "## Result by source"
   ]
  },
  {
   "cell_type": "code",
   "execution_count": 17,
   "metadata": {},
   "outputs": [
    {
     "name": "stdout",
     "output_type": "stream",
     "text": [
      "Length: 1\n"
     ]
    }
   ],
   "source": [
    "result_list = os.listdir('../results')\n",
    "\n",
    "whisper_ls = [x for x in result_list if 'canary' in x]\n",
    "print(f\"Length: {len(whisper_ls)}\")\n",
    "\n",
    "directory = \"/home/busayo/busayo/asr_benchmarking/results/\"\n",
    "\n",
    "def get_result_by_source(df_list):\n",
    "    for x in df_list:\n",
    "        result = pd.read_csv(directory+x)\n",
    "        result = result.groupby(['source'])['wer'].mean()\n",
    "        print(x)\n",
    "        print(result)"
   ]
  },
  {
   "cell_type": "code",
   "execution_count": 18,
   "metadata": {},
   "outputs": [
    {
     "name": "stdout",
     "output_type": "stream",
     "text": [
      "open-source-full_test-nvidia-canary-1b-french-wer-0.1454-1405.csv\n",
      "source\n",
      "intron-MT                          0.167823\n",
      "openslr-african_accented_french    0.065297\n",
      "Name: wer, dtype: float64\n"
     ]
    }
   ],
   "source": [
    "get_result_by_source(whisper_ls)"
   ]
  },
  {
   "cell_type": "markdown",
   "metadata": {},
   "source": [
    "## LLM APIs"
   ]
  },
  {
   "cell_type": "code",
   "execution_count": 2,
   "metadata": {},
   "outputs": [
    {
     "name": "stdout",
     "output_type": "stream",
     "text": [
      "/home/busayo/busayo/asr_benchmarking\n"
     ]
    }
   ],
   "source": [
    "%cd ../"
   ]
  },
  {
   "cell_type": "code",
   "execution_count": 14,
   "metadata": {},
   "outputs": [
    {
     "data": {
      "text/plain": [
       "Index(['audio_path', 'begin_time', 'end_time', 'text', 'duration',\n",
       "       'speaker_id', 'language', 'results'],\n",
       "      dtype='object')"
      ]
     },
     "execution_count": 14,
     "metadata": {},
     "output_type": "execute_result"
    }
   ],
   "source": [
    "df =  pd.read_csv(\"//home/busayo/busayo/asr_benchmarking/gemini-2.0-flash-001_m_librispeech_full.csv\")\n",
    "df.columns"
   ]
  },
  {
   "cell_type": "code",
   "execution_count": 15,
   "metadata": {},
   "outputs": [
    {
     "data": {
      "text/html": [
       "<div>\n",
       "<style scoped>\n",
       "    .dataframe tbody tr th:only-of-type {\n",
       "        vertical-align: middle;\n",
       "    }\n",
       "\n",
       "    .dataframe tbody tr th {\n",
       "        vertical-align: top;\n",
       "    }\n",
       "\n",
       "    .dataframe thead th {\n",
       "        text-align: right;\n",
       "    }\n",
       "</style>\n",
       "<table border=\"1\" class=\"dataframe\">\n",
       "  <thead>\n",
       "    <tr style=\"text-align: right;\">\n",
       "      <th></th>\n",
       "      <th>text</th>\n",
       "      <th>results</th>\n",
       "    </tr>\n",
       "  </thead>\n",
       "  <tbody>\n",
       "    <tr>\n",
       "      <th>0</th>\n",
       "      <td>after his nap timothy lazily stretched first o...</td>\n",
       "      <td>After his nap, Timothy lazily stretched, first...</td>\n",
       "    </tr>\n",
       "    <tr>\n",
       "      <th>1</th>\n",
       "      <td>for timothy was a spoiled cat and he allowed n...</td>\n",
       "      <td>For Timothy was a spoiled cat, and he allowed ...</td>\n",
       "    </tr>\n",
       "    <tr>\n",
       "      <th>2</th>\n",
       "      <td>but timothy resolved to punish them all and th...</td>\n",
       "      <td>But Timothy resolved to punish them all. And t...</td>\n",
       "    </tr>\n",
       "  </tbody>\n",
       "</table>\n",
       "</div>"
      ],
      "text/plain": [
       "                                                text  \\\n",
       "0  after his nap timothy lazily stretched first o...   \n",
       "1  for timothy was a spoiled cat and he allowed n...   \n",
       "2  but timothy resolved to punish them all and th...   \n",
       "\n",
       "                                             results  \n",
       "0  After his nap, Timothy lazily stretched, first...  \n",
       "1  For Timothy was a spoiled cat, and he allowed ...  \n",
       "2  But Timothy resolved to punish them all. And t...  "
      ]
     },
     "execution_count": 15,
     "metadata": {},
     "output_type": "execute_result"
    }
   ],
   "source": [
    "df[['text', 'results']].head(3)"
   ]
  },
  {
   "cell_type": "code",
   "execution_count": 16,
   "metadata": {},
   "outputs": [],
   "source": [
    "from src.utils.text_processing import clean_multilingual_text, post_process_preds\n",
    "from src.utils.utils import write_pred_inference_df"
   ]
  },
  {
   "cell_type": "code",
   "execution_count": 17,
   "metadata": {},
   "outputs": [
    {
     "data": {
      "text/plain": [
       "Index(['audio_path', 'begin_time', 'end_time', 'reference', 'duration',\n",
       "       'speaker_id', 'language', 'hypothesis'],\n",
       "      dtype='object')"
      ]
     },
     "execution_count": 17,
     "metadata": {},
     "output_type": "execute_result"
    }
   ],
   "source": [
    "df = df.rename(columns={'results': 'hypothesis', 'text': 'reference'})\n",
    "df.columns"
   ]
  },
  {
   "cell_type": "code",
   "execution_count": 18,
   "metadata": {},
   "outputs": [],
   "source": [
    "df['hypothesis'] = df['hypothesis'].astype(str)"
   ]
  },
  {
   "cell_type": "code",
   "execution_count": 8,
   "metadata": {},
   "outputs": [
    {
     "name": "stdout",
     "output_type": "stream",
     "text": [
      "<class 'pandas.core.frame.DataFrame'>\n",
      "RangeIndex: 8580 entries, 0 to 8579\n",
      "Data columns (total 8 columns):\n",
      " #   Column      Non-Null Count  Dtype  \n",
      "---  ------      --------------  -----  \n",
      " 0   audio_path  8580 non-null   object \n",
      " 1   begin_time  8580 non-null   float64\n",
      " 2   end_time    8580 non-null   float64\n",
      " 3   reference   8580 non-null   object \n",
      " 4   duration    8580 non-null   float64\n",
      " 5   speaker_id  8580 non-null   int64  \n",
      " 6   language    8580 non-null   object \n",
      " 7   hypothesis  8580 non-null   object \n",
      "dtypes: float64(3), int64(1), object(4)\n",
      "memory usage: 536.4+ KB\n"
     ]
    }
   ],
   "source": [
    "df.info()"
   ]
  },
  {
   "cell_type": "code",
   "execution_count": 19,
   "metadata": {},
   "outputs": [],
   "source": [
    "eng = df[df['language'] == 'english']\n",
    "fra = df[df['language'] == 'french']"
   ]
  },
  {
   "cell_type": "code",
   "execution_count": 20,
   "metadata": {},
   "outputs": [
    {
     "name": "stdout",
     "output_type": "stream",
     "text": [
      "Cleanup WER: 6.59 %\n",
      "TextNormalizer WER: 6.59 %\n"
     ]
    }
   ],
   "source": [
    "all_wer = post_process_preds(eng.copy(), non_english=True)"
   ]
  },
  {
   "cell_type": "code",
   "execution_count": 21,
   "metadata": {},
   "outputs": [
    {
     "name": "stdout",
     "output_type": "stream",
     "text": [
      "Cleanup WER: 6.59 %\n",
      "TextNormalizer WER: 6.59 %\n",
      "./results/open-source-full_test-gemini-2.0-flash-001-english-wer-0.0659-3769.csv\n",
      "Cleanup WER: 3.77 %\n",
      "TextNormalizer WER: 3.77 %\n",
      "./results/open-source-full_test-gemini-2.0-flash-001-spanish-wer-0.0377-2385.csv\n",
      "Cleanup WER: 5.49 %\n",
      "TextNormalizer WER: 5.49 %\n",
      "./results/open-source-full_test-gemini-2.0-flash-001-french-wer-0.0549-2426.csv\n"
     ]
    }
   ],
   "source": [
    "for lang in df.language.unique().tolist():\n",
    "    results = df[df['language'] == lang].copy()\n",
    "    all_wer = post_process_preds(results, non_english=True)\n",
    "    write_pred_inference_df(\"gemini-2.0-flash-001\", results, all_wer, language=lang, split=\"full_test\")"
   ]
  },
  {
   "cell_type": "code",
   "execution_count": 8,
   "metadata": {},
   "outputs": [
    {
     "data": {
      "text/plain": [
       "Index(['speaker_id', 'reference', 'audio_path', 'duration', 'source',\n",
       "       'language', 'gender', 'hypothesis', 'pred_clean', 'ref_clean', 'wer',\n",
       "       'hypothesis_clean', 'reference_clean'],\n",
       "      dtype='object')"
      ]
     },
     "execution_count": 8,
     "metadata": {},
     "output_type": "execute_result"
    }
   ],
   "source": [
    "df = pd.read_csv(\"/home/busayo/busayo/asr_benchmarking/results/open-source-full_test-gemini-2.0-flash-001-yoruba-wer-0.9131-4716.csv\")\n",
    "df.columns"
   ]
  },
  {
   "cell_type": "code",
   "execution_count": 31,
   "metadata": {},
   "outputs": [
    {
     "data": {
      "text/html": [
       "<div>\n",
       "<style scoped>\n",
       "    .dataframe tbody tr th:only-of-type {\n",
       "        vertical-align: middle;\n",
       "    }\n",
       "\n",
       "    .dataframe tbody tr th {\n",
       "        vertical-align: top;\n",
       "    }\n",
       "\n",
       "    .dataframe thead th {\n",
       "        text-align: right;\n",
       "    }\n",
       "</style>\n",
       "<table border=\"1\" class=\"dataframe\">\n",
       "  <thead>\n",
       "    <tr style=\"text-align: right;\">\n",
       "      <th></th>\n",
       "      <th>ref_clean</th>\n",
       "      <th>pred_clean</th>\n",
       "    </tr>\n",
       "  </thead>\n",
       "  <tbody>\n",
       "    <tr>\n",
       "      <th>0</th>\n",
       "      <td>ọmọ ọ jọ gbọ n fẹ yìntì ni mò ń fẹ</td>\n",
       "      <td>omo ojo gan feyinti ni mo nile</td>\n",
       "    </tr>\n",
       "    <tr>\n",
       "      <th>1</th>\n",
       "      <td>fayọ yóò ra sọ kẹ tì mẹ jọ ní ọjà</td>\n",
       "      <td>báyìi ọ yọ ga soketi ti mẹ jọ ni ọ jọ ni o já</td>\n",
       "    </tr>\n",
       "    <tr>\n",
       "      <th>2</th>\n",
       "      <td>àwọn ẹlòmíràn má a n yún ara won tí wón báti w...</td>\n",
       "      <td>àwọn ẹlòmíràn máa ń yún àre àwọn tí wọ n bá ti...</td>\n",
       "    </tr>\n",
       "    <tr>\n",
       "      <th>3</th>\n",
       "      <td>ìbáraẹnisọ rọ gbọ dọ wáyé láàrin ẹni méjì sí m...</td>\n",
       "      <td>ibara ìnísoro gbódò wà yé la rìn èni méji sí m...</td>\n",
       "    </tr>\n",
       "    <tr>\n",
       "      <th>4</th>\n",
       "      <td>olórí ilé ẹ kọ lọ kùnrin yóò bá àwọn akẹ kọ ọ ...</td>\n",
       "      <td>olori ile eko lokunrin yoo ba awon akeko soro ...</td>\n",
       "    </tr>\n",
       "    <tr>\n",
       "      <th>...</th>\n",
       "      <td>...</td>\n",
       "      <td>...</td>\n",
       "    </tr>\n",
       "    <tr>\n",
       "      <th>4711</th>\n",
       "      <td>ta ni o leè tún ọkọ òfurufú se</td>\n",
       "      <td>ẹ máa ní olè tó kó fún iléṣẹ</td>\n",
       "    </tr>\n",
       "    <tr>\n",
       "      <th>4712</th>\n",
       "      <td>àwọn onímọ nípa oúnjẹ ní o máà n ṣètò oúnjẹ àw...</td>\n",
       "      <td>awon oni imo nipa ounje ni won ma n se pipe ou...</td>\n",
       "    </tr>\n",
       "    <tr>\n",
       "      <th>4713</th>\n",
       "      <td>o gbúdò se ìbánikẹ dùn àti àdúrà fún olóògbé n...</td>\n",
       "      <td>ogbori ṣe ibanikẹdun ati àdúrà fún olúwa oloru...</td>\n",
       "    </tr>\n",
       "    <tr>\n",
       "      <th>4714</th>\n",
       "      <td>ọ mùtí ni bàbá bola</td>\n",
       "      <td>omugcini babakwena</td>\n",
       "    </tr>\n",
       "    <tr>\n",
       "      <th>4715</th>\n",
       "      <td>mo sọ fún àwọn obìnrin náà láti dáná</td>\n",
       "      <td>okay</td>\n",
       "    </tr>\n",
       "  </tbody>\n",
       "</table>\n",
       "<p>4716 rows × 2 columns</p>\n",
       "</div>"
      ],
      "text/plain": [
       "                                              ref_clean  \\\n",
       "0                   ọmọ ọ jọ gbọ n fẹ yìntì ni mò ń fẹ    \n",
       "1                    fayọ yóò ra sọ kẹ tì mẹ jọ ní ọjà    \n",
       "2     àwọn ẹlòmíràn má a n yún ara won tí wón báti w...   \n",
       "3     ìbáraẹnisọ rọ gbọ dọ wáyé láàrin ẹni méjì sí m...   \n",
       "4     olórí ilé ẹ kọ lọ kùnrin yóò bá àwọn akẹ kọ ọ ...   \n",
       "...                                                 ...   \n",
       "4711                    ta ni o leè tún ọkọ òfurufú se    \n",
       "4712  àwọn onímọ nípa oúnjẹ ní o máà n ṣètò oúnjẹ àw...   \n",
       "4713  o gbúdò se ìbánikẹ dùn àti àdúrà fún olóògbé n...   \n",
       "4714                                ọ mùtí ni bàbá bola   \n",
       "4715              mo sọ fún àwọn obìnrin náà láti dáná    \n",
       "\n",
       "                                             pred_clean  \n",
       "0                       omo ojo gan feyinti ni mo nile   \n",
       "1        báyìi ọ yọ ga soketi ti mẹ jọ ni ọ jọ ni o já   \n",
       "2     àwọn ẹlòmíràn máa ń yún àre àwọn tí wọ n bá ti...  \n",
       "3     ibara ìnísoro gbódò wà yé la rìn èni méji sí m...  \n",
       "4     olori ile eko lokunrin yoo ba awon akeko soro ...  \n",
       "...                                                 ...  \n",
       "4711                      ẹ máa ní olè tó kó fún iléṣẹ   \n",
       "4712  awon oni imo nipa ounje ni won ma n se pipe ou...  \n",
       "4713  ogbori ṣe ibanikẹdun ati àdúrà fún olúwa oloru...  \n",
       "4714                                 omugcini babakwena  \n",
       "4715                                              okay   \n",
       "\n",
       "[4716 rows x 2 columns]"
      ]
     },
     "execution_count": 31,
     "metadata": {},
     "output_type": "execute_result"
    }
   ],
   "source": [
    "df[['ref_clean', 'pred_clean']]"
   ]
  },
  {
   "cell_type": "code",
   "execution_count": 32,
   "metadata": {},
   "outputs": [
    {
     "data": {
      "text/plain": [
       "Index(['audio_id', 'audio_path', 'reference', 'hypothesis', 'pred_clean',\n",
       "       'ref_clean', 'wer', 'hypothesis_clean', 'reference_clean', 'source'],\n",
       "      dtype='object')"
      ]
     },
     "execution_count": 32,
     "metadata": {},
     "output_type": "execute_result"
    }
   ],
   "source": [
    "result = \"/home/busayo/busayo/asr_benchmarking/results/open-source-full_test-facebook-seamless-m4t-v2-large-afrikaans-wer-0.9969-4341.csv\"\n",
    "\n",
    "df = pd.read_csv(result)\n",
    "df.columns"
   ]
  },
  {
   "cell_type": "code",
   "execution_count": 37,
   "metadata": {},
   "outputs": [
    {
     "data": {
      "text/html": [
       "<div>\n",
       "<style scoped>\n",
       "    .dataframe tbody tr th:only-of-type {\n",
       "        vertical-align: middle;\n",
       "    }\n",
       "\n",
       "    .dataframe tbody tr th {\n",
       "        vertical-align: top;\n",
       "    }\n",
       "\n",
       "    .dataframe thead th {\n",
       "        text-align: right;\n",
       "    }\n",
       "</style>\n",
       "<table border=\"1\" class=\"dataframe\">\n",
       "  <thead>\n",
       "    <tr style=\"text-align: right;\">\n",
       "      <th></th>\n",
       "      <th>ref_clean</th>\n",
       "      <th>pred_clean</th>\n",
       "      <th>wer</th>\n",
       "    </tr>\n",
       "  </thead>\n",
       "  <tbody>\n",
       "    <tr>\n",
       "      <th>0</th>\n",
       "      <td>die united states geological survey se interna...</td>\n",
       "      <td>die verenigde state ge ologi ese survey se in...</td>\n",
       "      <td>0.823529</td>\n",
       "    </tr>\n",
       "    <tr>\n",
       "      <th>1</th>\n",
       "      <td>navorsing vind dat vrouens dubbeld so waarskyn...</td>\n",
       "      <td>nav ors ing vind dat vroue dub bel so waarsky...</td>\n",
       "      <td>0.500000</td>\n",
       "    </tr>\n",
       "    <tr>\n",
       "      <th>2</th>\n",
       "      <td>ekonomiese skakels is weer tussen hierdie twee...</td>\n",
       "      <td>ekonomi ese sk ak els is weer tussen hierdie ...</td>\n",
       "      <td>1.000000</td>\n",
       "    </tr>\n",
       "    <tr>\n",
       "      <th>3</th>\n",
       "      <td>wilde diere kan skaam of aggressief wees die o...</td>\n",
       "      <td>wilde diere kan ska am of aggress ief wees di...</td>\n",
       "      <td>0.750000</td>\n",
       "    </tr>\n",
       "    <tr>\n",
       "      <th>4</th>\n",
       "      <td>maar die verbruikersmark rakend skootrekenaars...</td>\n",
       "      <td>maar die verbru ikers mark rak ende sko otre ...</td>\n",
       "      <td>0.966667</td>\n",
       "    </tr>\n",
       "    <tr>\n",
       "      <th>...</th>\n",
       "      <td>...</td>\n",
       "      <td>...</td>\n",
       "      <td>...</td>\n",
       "    </tr>\n",
       "    <tr>\n",
       "      <th>4336</th>\n",
       "      <td>tor sal nie net byna alle nasionale sensuur om...</td>\n",
       "      <td>tor sal nie net byna alle nasionale sens ors ...</td>\n",
       "      <td>0.476190</td>\n",
       "    </tr>\n",
       "    <tr>\n",
       "      <th>4337</th>\n",
       "      <td>maar wanneer die mafia kom verander hulle van ...</td>\n",
       "      <td>maar wanneer die maf ia kom verander hulle va...</td>\n",
       "      <td>2.545455</td>\n",
       "    </tr>\n",
       "    <tr>\n",
       "      <th>4338</th>\n",
       "      <td>dit was hoe advokaat adio baklei het en uitein...</td>\n",
       "      <td>dit was hoe adv oka at ad jo bak lei het en u...</td>\n",
       "      <td>0.500000</td>\n",
       "    </tr>\n",
       "    <tr>\n",
       "      <th>4339</th>\n",
       "      <td>wat die oordragtempo betref wat deur epidemiol...</td>\n",
       "      <td>wat die o ord rag tem po bet ref wat deur die...</td>\n",
       "      <td>0.566038</td>\n",
       "    </tr>\n",
       "    <tr>\n",
       "      <th>4340</th>\n",
       "      <td>die storie van die renosterkop is op 16 novemb...</td>\n",
       "      <td>die storie van die r oster kop is op s esti e...</td>\n",
       "      <td>1.300000</td>\n",
       "    </tr>\n",
       "  </tbody>\n",
       "</table>\n",
       "<p>4341 rows × 3 columns</p>\n",
       "</div>"
      ],
      "text/plain": [
       "                                              ref_clean  \\\n",
       "0     die united states geological survey se interna...   \n",
       "1     navorsing vind dat vrouens dubbeld so waarskyn...   \n",
       "2     ekonomiese skakels is weer tussen hierdie twee...   \n",
       "3     wilde diere kan skaam of aggressief wees die o...   \n",
       "4     maar die verbruikersmark rakend skootrekenaars...   \n",
       "...                                                 ...   \n",
       "4336  tor sal nie net byna alle nasionale sensuur om...   \n",
       "4337  maar wanneer die mafia kom verander hulle van ...   \n",
       "4338  dit was hoe advokaat adio baklei het en uitein...   \n",
       "4339  wat die oordragtempo betref wat deur epidemiol...   \n",
       "4340  die storie van die renosterkop is op 16 novemb...   \n",
       "\n",
       "                                             pred_clean       wer  \n",
       "0      die verenigde state ge ologi ese survey se in...  0.823529  \n",
       "1      nav ors ing vind dat vroue dub bel so waarsky...  0.500000  \n",
       "2      ekonomi ese sk ak els is weer tussen hierdie ...  1.000000  \n",
       "3      wilde diere kan ska am of aggress ief wees di...  0.750000  \n",
       "4      maar die verbru ikers mark rak ende sko otre ...  0.966667  \n",
       "...                                                 ...       ...  \n",
       "4336   tor sal nie net byna alle nasionale sens ors ...  0.476190  \n",
       "4337   maar wanneer die maf ia kom verander hulle va...  2.545455  \n",
       "4338   dit was hoe adv oka at ad jo bak lei het en u...  0.500000  \n",
       "4339   wat die o ord rag tem po bet ref wat deur die...  0.566038  \n",
       "4340   die storie van die r oster kop is op s esti e...  1.300000  \n",
       "\n",
       "[4341 rows x 3 columns]"
      ]
     },
     "execution_count": 37,
     "metadata": {},
     "output_type": "execute_result"
    }
   ],
   "source": [
    "df[['ref_clean', 'pred_clean', 'wer']]"
   ]
  },
  {
   "cell_type": "code",
   "execution_count": 35,
   "metadata": {},
   "outputs": [
    {
     "data": {
      "text/html": [
       "<div>\n",
       "<style scoped>\n",
       "    .dataframe tbody tr th:only-of-type {\n",
       "        vertical-align: middle;\n",
       "    }\n",
       "\n",
       "    .dataframe tbody tr th {\n",
       "        vertical-align: top;\n",
       "    }\n",
       "\n",
       "    .dataframe thead th {\n",
       "        text-align: right;\n",
       "    }\n",
       "</style>\n",
       "<table border=\"1\" class=\"dataframe\">\n",
       "  <thead>\n",
       "    <tr style=\"text-align: right;\">\n",
       "      <th></th>\n",
       "      <th>ref_clean</th>\n",
       "      <th>pred_clean</th>\n",
       "      <th>wer</th>\n",
       "    </tr>\n",
       "  </thead>\n",
       "  <tbody>\n",
       "    <tr>\n",
       "      <th>1627</th>\n",
       "      <td>projekgekoppelde subsidie institusionele</td>\n",
       "      <td>projek gek opp elde subsidi es institus ionele</td>\n",
       "      <td>2.666667</td>\n",
       "    </tr>\n",
       "    <tr>\n",
       "      <th>1074</th>\n",
       "      <td>uiteensit waaraan diens</td>\n",
       "      <td>uit een sit waar aan diens</td>\n",
       "      <td>1.666667</td>\n",
       "    </tr>\n",
       "    <tr>\n",
       "      <th>1098</th>\n",
       "      <td>hantering voorbereiding bediening</td>\n",
       "      <td>hand eling vo orb ere iding b edi ening</td>\n",
       "      <td>3.000000</td>\n",
       "    </tr>\n",
       "    <tr>\n",
       "      <th>4240</th>\n",
       "      <td>labake het die deur van die kamer saggies agte...</td>\n",
       "      <td>r yk ontvang met n son n ige en vr ol ike gli...</td>\n",
       "      <td>0.961538</td>\n",
       "    </tr>\n",
       "    <tr>\n",
       "      <th>2977</th>\n",
       "      <td>afvalwater sluit huishoudelike</td>\n",
       "      <td>af val water sluit huisho ud elike</td>\n",
       "      <td>2.000000</td>\n",
       "    </tr>\n",
       "    <tr>\n",
       "      <th>1217</th>\n",
       "      <td>mededingendheidsverbeteringsteun omgewingsbest...</td>\n",
       "      <td>med eding end heids verb eter ings steun om g...</td>\n",
       "      <td>7.333333</td>\n",
       "    </tr>\n",
       "    <tr>\n",
       "      <th>877</th>\n",
       "      <td>visvangsregte aansoek doen</td>\n",
       "      <td>vis vang s reg te aansoek doen</td>\n",
       "      <td>1.666667</td>\n",
       "    </tr>\n",
       "  </tbody>\n",
       "</table>\n",
       "</div>"
      ],
      "text/plain": [
       "                                              ref_clean  \\\n",
       "1627           projekgekoppelde subsidie institusionele   \n",
       "1074                            uiteensit waaraan diens   \n",
       "1098                  hantering voorbereiding bediening   \n",
       "4240  labake het die deur van die kamer saggies agte...   \n",
       "2977                     afvalwater sluit huishoudelike   \n",
       "1217  mededingendheidsverbeteringsteun omgewingsbest...   \n",
       "877                          visvangsregte aansoek doen   \n",
       "\n",
       "                                             pred_clean       wer  \n",
       "1627    projek gek opp elde subsidi es institus ionele   2.666667  \n",
       "1074                        uit een sit waar aan diens   1.666667  \n",
       "1098           hand eling vo orb ere iding b edi ening   3.000000  \n",
       "4240   r yk ontvang met n son n ige en vr ol ike gli...  0.961538  \n",
       "2977                af val water sluit huisho ud elike   2.000000  \n",
       "1217   med eding end heids verb eter ings steun om g...  7.333333  \n",
       "877                     vis vang s reg te aansoek doen   1.666667  "
      ]
     },
     "execution_count": 35,
     "metadata": {},
     "output_type": "execute_result"
    }
   ],
   "source": [
    "df[['ref_clean', 'pred_clean', 'wer']].sample(7)"
   ]
  },
  {
   "cell_type": "code",
   "execution_count": null,
   "metadata": {},
   "outputs": [],
   "source": []
  },
  {
   "cell_type": "markdown",
   "metadata": {},
   "source": [
    "## Error Analysis (Error sampling)"
   ]
  },
  {
   "cell_type": "code",
   "execution_count": 2,
   "metadata": {},
   "outputs": [
    {
     "name": "stdout",
     "output_type": "stream",
     "text": [
      "/home/busayo/busayo/asr_benchmarking\n"
     ]
    }
   ],
   "source": [
    "%cd ../"
   ]
  },
  {
   "cell_type": "code",
   "execution_count": 3,
   "metadata": {},
   "outputs": [],
   "source": [
    "files = os.listdir('results')"
   ]
  },
  {
   "cell_type": "code",
   "execution_count": 4,
   "metadata": {},
   "outputs": [
    {
     "data": {
      "text/plain": [
       "8"
      ]
     },
     "execution_count": 4,
     "metadata": {},
     "output_type": "execute_result"
    }
   ],
   "source": [
    "french = [os.path.join(\"results\", x) for x in files if \"french\" in x]\n",
    "len(french)\n"
   ]
  },
  {
   "cell_type": "code",
   "execution_count": 14,
   "metadata": {},
   "outputs": [],
   "source": [
    "def sample_error(df: pd.DataFrame, threshold: float=0.3):\n",
    "    df = df.rename(columns={'audio_id':\"speaker_id\"})\n",
    "    error_df = df[df['wer'] >= threshold].copy()\n",
    "    error_df.loc[:, 'wer_bins'] = pd.qcut(error_df['wer'], q=5, duplicates='drop')\n",
    "    sampled_bins = error_df.groupby('wer_bins').apply(lambda x: x.sample(n=2, random_state=42)).reset_index(drop=True)\n",
    "    return sampled_bins[['speaker_id', 'audio_path', 'reference', 'hypothesis', 'pred_clean', 'ref_clean', 'wer']]"
   ]
  },
  {
   "cell_type": "code",
   "execution_count": 16,
   "metadata": {},
   "outputs": [],
   "source": [
    "def map_model_to_csv(file):\n",
    "    if 'canary' in file:\n",
    "        return 'canary-1b'\n",
    "    elif 'seamless-m4t-v2-large' in file:\n",
    "        return 'seamless-m4t-v2-large'\n",
    "    elif 'whisper-medium' in file:\n",
    "        return 'whisper-medium'\n",
    "    elif 'whisper-large-v3' in file:\n",
    "        return 'whisper-large-v3'\n",
    "    elif 'gemini-2.0-flash-001' in file:\n",
    "        return 'gemini-2.0-flash-001'\n",
    "    elif 'gpt4o_preview' in file:\n",
    "        return 'gpt4o_preview'\n",
    "    elif 'hf-seamless-m4t-large' in file:\n",
    "        return 'hf-seamless-m4t-large'\n",
    "    elif 'mms-1b-all' in file:\n",
    "        return 'mms-1b-all'\n",
    "    else:\n",
    "        raise Exception(\"Unknown model\")"
   ]
  },
  {
   "cell_type": "code",
   "execution_count": 17,
   "metadata": {},
   "outputs": [
    {
     "data": {
      "text/plain": [
       "20"
      ]
     },
     "execution_count": 17,
     "metadata": {},
     "output_type": "execute_result"
    }
   ],
   "source": [
    "language_list = pd.read_csv(\"data/mls_data_index.csv\")['language'].unique().tolist()\n",
    "len(language_list)"
   ]
  },
  {
   "cell_type": "code",
   "execution_count": 24,
   "metadata": {},
   "outputs": [
    {
     "name": "stderr",
     "output_type": "stream",
     "text": [
      "Sampling model errors:   0%|\u001b[34m          \u001b[0m| 0/20 [00:00<?, ?it/s]"
     ]
    },
    {
     "name": "stdout",
     "output_type": "stream",
     "text": [
      "Samples written to error_samples/yoruba_whisper-medium.csv: (4, 8)\n",
      "Samples written to error_samples/yoruba_hf-seamless-m4t-large.csv: (10, 8)\n",
      "Samples written to error_samples/yoruba_gpt4o_preview.csv: (8, 8)\n",
      "Samples written to error_samples/yoruba_whisper-large-v3.csv: (6, 8)\n"
     ]
    },
    {
     "name": "stderr",
     "output_type": "stream",
     "text": [
      "Sampling model errors:   5%|\u001b[34m▌         \u001b[0m| 1/20 [00:00<00:08,  2.13it/s]"
     ]
    },
    {
     "name": "stdout",
     "output_type": "stream",
     "text": [
      "Samples written to error_samples/yoruba_mms-1b-all.csv: (10, 8)\n",
      "Samples written to error_samples/yoruba_seamless-m4t-v2-large.csv: (10, 8)\n",
      "Samples written to error_samples/yoruba_gemini-2.0-flash-001.csv: (8, 8)\n",
      "Samples written to error_samples/hausa_whisper-medium.csv: (6, 8)\n"
     ]
    },
    {
     "name": "stderr",
     "output_type": "stream",
     "text": [
      "Sampling model errors:   5%|\u001b[34m▌         \u001b[0m| 1/20 [00:00<00:08,  2.13it/s]"
     ]
    },
    {
     "name": "stdout",
     "output_type": "stream",
     "text": [
      "Samples written to error_samples/hausa_gemini-2.0-flash-001.csv: (10, 8)\n",
      "Samples written to error_samples/hausa_hf-seamless-m4t-large.csv: (10, 8)\n",
      "Samples written to error_samples/hausa_mms-1b-all.csv: (10, 8)\n",
      "Samples written to error_samples/hausa_whisper-large-v3.csv: (8, 8)\n",
      "Samples written to error_samples/hausa_seamless-m4t-v2-large.csv: (10, 8)\n"
     ]
    },
    {
     "name": "stderr",
     "output_type": "stream",
     "text": [
      "Sampling model errors:  10%|\u001b[34m█         \u001b[0m| 2/20 [00:00<00:06,  2.64it/s]"
     ]
    },
    {
     "name": "stdout",
     "output_type": "stream",
     "text": [
      "Samples written to error_samples/hausa_gpt4o_preview.csv: (6, 8)\n",
      "Samples written to error_samples/igbo_mms-1b-all.csv: (10, 8)\n",
      "Samples written to error_samples/igbo_gpt4o_preview.csv: (8, 8)\n",
      "Samples written to error_samples/igbo_seamless-m4t-v2-large.csv: (10, 8)\n",
      "Samples written to error_samples/igbo_hf-seamless-m4t-large.csv: (10, 8)\n"
     ]
    },
    {
     "name": "stderr",
     "output_type": "stream",
     "text": [
      "Sampling model errors:  20%|\u001b[34m██        \u001b[0m| 4/20 [00:01<00:04,  3.78it/s]"
     ]
    },
    {
     "name": "stdout",
     "output_type": "stream",
     "text": [
      "Samples written to error_samples/igbo_gemini-2.0-flash-001.csv: (8, 8)\n",
      "Samples written to error_samples/ga_gemini-2.0-flash-001.csv: (10, 8)\n",
      "Samples written to error_samples/ga_gpt4o_preview.csv: (10, 8)\n",
      "Samples written to error_samples/ga_gemini-2.0-flash-001.csv: (10, 8)\n",
      "Samples written to error_samples/ga_gpt4o_preview.csv: (10, 8)\n",
      "Samples written to error_samples/ga_mms-1b-all.csv: (10, 8)\n",
      "Samples written to error_samples/ga_hf-seamless-m4t-large.csv: (10, 8)\n",
      "Samples written to error_samples/ga_seamless-m4t-v2-large.csv: (10, 8)\n"
     ]
    },
    {
     "name": "stderr",
     "output_type": "stream",
     "text": [
      "Sampling model errors:  30%|\u001b[34m███       \u001b[0m| 6/20 [00:01<00:02,  5.97it/s]"
     ]
    },
    {
     "name": "stdout",
     "output_type": "stream",
     "text": [
      "Samples written to error_samples/akan_gpt4o_preview.csv: (10, 8)\n",
      "Samples written to error_samples/akan_mms-1b-all.csv: (10, 8)\n",
      "Samples written to error_samples/akan_gemini-2.0-flash-001.csv: (10, 8)\n",
      "Samples written to error_samples/twi_gemini-2.0-flash-001.csv: (10, 8)\n",
      "Samples written to error_samples/twi_gpt4o_preview.csv: (10, 8)\n",
      "Samples written to error_samples/twi_mms-1b-all.csv: (10, 8)\n",
      "Samples written to error_samples/afrikaans_hf-seamless-m4t-large.csv: (10, 8)\n"
     ]
    },
    {
     "name": "stderr",
     "output_type": "stream",
     "text": [
      "Sampling model errors:  30%|\u001b[34m███       \u001b[0m| 6/20 [00:01<00:02,  5.97it/s]"
     ]
    },
    {
     "name": "stdout",
     "output_type": "stream",
     "text": [
      "Samples written to error_samples/afrikaans_mms-1b-all.csv: (10, 8)\n",
      "Samples written to error_samples/afrikaans_seamless-m4t-v2-large.csv: (10, 8)\n",
      "Samples written to error_samples/afrikaans_whisper-large-v3.csv: (8, 8)\n",
      "Samples written to error_samples/afrikaans_gpt4o_preview.csv: (10, 8)\n",
      "Samples written to error_samples/afrikaans_whisper-medium.csv: (10, 8)\n"
     ]
    },
    {
     "name": "stderr",
     "output_type": "stream",
     "text": [
      "Sampling model errors:  35%|\u001b[34m███▌      \u001b[0m| 7/20 [00:01<00:02,  4.66it/s]"
     ]
    },
    {
     "name": "stdout",
     "output_type": "stream",
     "text": [
      "Samples written to error_samples/afrikaans_gemini-2.0-flash-001.csv: (8, 8)\n",
      "Samples written to error_samples/afrikaans_seamless-m4t-v2-large.csv: (10, 8)\n",
      "Samples written to error_samples/amharic_gpt4o_preview.csv: (10, 8)\n",
      "Samples written to error_samples/amharic_gemini-2.0-flash-001.csv: (10, 8)\n",
      "Samples written to error_samples/amharic_whisper-large-v3.csv: (10, 8)\n",
      "Samples written to error_samples/amharic_whisper-medium.csv: (8, 8)\n"
     ]
    },
    {
     "name": "stderr",
     "output_type": "stream",
     "text": [
      "Sampling model errors:  40%|\u001b[34m████      \u001b[0m| 8/20 [00:02<00:02,  4.40it/s]"
     ]
    },
    {
     "name": "stdout",
     "output_type": "stream",
     "text": [
      "Samples written to error_samples/amharic_seamless-m4t-v2-large.csv: (10, 8)\n",
      "Samples written to error_samples/amharic_hf-seamless-m4t-large.csv: (10, 8)\n",
      "Samples written to error_samples/amharic_mms-1b-all.csv: (10, 8)\n",
      "Samples written to error_samples/amharic_whisper-large-v3.csv: (6, 8)\n",
      "Samples written to error_samples/arabic_whisper-medium.csv: (10, 8)\n",
      "Samples written to error_samples/arabic_whisper-large-v3.csv: (10, 8)\n"
     ]
    },
    {
     "name": "stderr",
     "output_type": "stream",
     "text": [
      "Sampling model errors:  40%|\u001b[34m████      \u001b[0m| 8/20 [00:02<00:02,  4.40it/s]"
     ]
    },
    {
     "name": "stdout",
     "output_type": "stream",
     "text": [
      "Samples written to error_samples/arabic_gpt4o_preview.csv: (10, 8)\n",
      "Samples written to error_samples/arabic_whisper-large-v3.csv: (10, 8)\n",
      "Samples written to error_samples/arabic_mms-1b-all.csv: (10, 8)\n",
      "Samples written to error_samples/arabic_hf-seamless-m4t-large.csv: (10, 8)\n"
     ]
    },
    {
     "name": "stderr",
     "output_type": "stream",
     "text": [
      "Sampling model errors:  45%|\u001b[34m████▌     \u001b[0m| 9/20 [00:02<00:03,  3.52it/s]"
     ]
    },
    {
     "name": "stdout",
     "output_type": "stream",
     "text": [
      "Samples written to error_samples/arabic_gemini-2.0-flash-001.csv: (10, 8)\n",
      "Samples written to error_samples/arabic_seamless-m4t-v2-large.csv: (10, 8)\n",
      "Samples written to error_samples/fulani_gemini-2.0-flash-001.csv: (10, 8)\n",
      "Samples written to error_samples/fulani_hf-seamless-m4t-large.csv: (10, 8)\n",
      "Samples written to error_samples/fulani_seamless-m4t-v2-large.csv: (10, 8)\n",
      "Samples written to error_samples/fulani_gpt4o_preview.csv: (10, 8)\n",
      "Samples written to error_samples/fulani_mms-1b-all.csv: (10, 8)\n",
      "Samples written to error_samples/luganda_gemini-2.0-flash-001.csv: (10, 8)\n"
     ]
    },
    {
     "name": "stderr",
     "output_type": "stream",
     "text": [
      "Sampling model errors:  55%|\u001b[34m█████▌    \u001b[0m| 11/20 [00:02<00:01,  4.72it/s]"
     ]
    },
    {
     "name": "stdout",
     "output_type": "stream",
     "text": [
      "Samples written to error_samples/luganda_gpt4o_preview.csv: (10, 8)\n",
      "Samples written to error_samples/luganda_mms-1b-all.csv: (10, 8)\n",
      "Samples written to error_samples/luganda_hf-seamless-m4t-large.csv: (10, 8)\n",
      "Samples written to error_samples/luganda_seamless-m4t-v2-large.csv: (10, 8)\n",
      "Samples written to error_samples/pedi_gpt4o_preview.csv: (8, 8)\n",
      "Samples written to error_samples/pedi_mms-1b-all.csv: (10, 8)\n"
     ]
    },
    {
     "name": "stderr",
     "output_type": "stream",
     "text": [
      "Sampling model errors:  60%|\u001b[34m██████    \u001b[0m| 12/20 [00:02<00:01,  5.21it/s]"
     ]
    },
    {
     "name": "stdout",
     "output_type": "stream",
     "text": [
      "Samples written to error_samples/pedi_gemini-2.0-flash-001.csv: (8, 8)\n",
      "Samples written to error_samples/shona_seamless-m4t-v2-large.csv: (10, 8)\n",
      "Samples written to error_samples/shona_gemini-2.0-flash-001.csv: (10, 8)\n",
      "Samples written to error_samples/shona_whisper-large-v3.csv: (10, 8)\n",
      "Samples written to error_samples/shona_whisper-medium.csv: (6, 8)\n",
      "Samples written to error_samples/shona_whisper-large-v3.csv: (10, 8)\n"
     ]
    },
    {
     "name": "stderr",
     "output_type": "stream",
     "text": [
      "Sampling model errors:  65%|\u001b[34m██████▌   \u001b[0m| 13/20 [00:03<00:01,  4.65it/s]"
     ]
    },
    {
     "name": "stdout",
     "output_type": "stream",
     "text": [
      "Samples written to error_samples/shona_gpt4o_preview.csv: (10, 8)\n",
      "Samples written to error_samples/shona_hf-seamless-m4t-large.csv: (10, 8)\n",
      "Samples written to error_samples/shona_mms-1b-all.csv: (10, 8)\n",
      "Samples written to error_samples/swahili_whisper-large-v3.csv: (10, 8)\n",
      "Samples written to error_samples/swahili_gemini-2.0-flash-001.csv: (10, 8)\n"
     ]
    },
    {
     "name": "stderr",
     "output_type": "stream",
     "text": [
      "Sampling model errors:  70%|\u001b[34m███████   \u001b[0m| 14/20 [00:03<00:01,  4.08it/s]"
     ]
    },
    {
     "name": "stdout",
     "output_type": "stream",
     "text": [
      "Samples written to error_samples/swahili_mms-1b-all.csv: (10, 8)\n",
      "Samples written to error_samples/swahili_gpt4o_preview.csv: (10, 8)\n",
      "Samples written to error_samples/swahili_whisper-medium.csv: (10, 8)\n",
      "Samples written to error_samples/swahili_hf-seamless-m4t-large.csv: (10, 8)\n",
      "Samples written to error_samples/swahili_seamless-m4t-v2-large.csv: (10, 8)\n"
     ]
    },
    {
     "name": "stderr",
     "output_type": "stream",
     "text": [
      "Sampling model errors:  75%|\u001b[34m███████▌  \u001b[0m| 15/20 [00:03<00:01,  4.64it/s]"
     ]
    },
    {
     "name": "stdout",
     "output_type": "stream",
     "text": [
      "Samples written to error_samples/xhosa_mms-1b-all.csv: (10, 8)\n",
      "Samples written to error_samples/xhosa_gpt4o_preview.csv: (10, 8)\n",
      "Samples written to error_samples/xhosa_gemini-2.0-flash-001.csv: (10, 8)\n",
      "Samples written to error_samples/zulu_gemini-2.0-flash-001.csv: (10, 8)\n",
      "Samples written to error_samples/zulu_mms-1b-all.csv: (10, 8)\n"
     ]
    },
    {
     "name": "stderr",
     "output_type": "stream",
     "text": [
      "Sampling model errors:  80%|\u001b[34m████████  \u001b[0m| 16/20 [00:03<00:00,  4.90it/s]"
     ]
    },
    {
     "name": "stdout",
     "output_type": "stream",
     "text": [
      "Samples written to error_samples/zulu_gpt4o_preview.csv: (10, 8)\n",
      "Samples written to error_samples/zulu_seamless-m4t-v2-large.csv: (10, 8)\n",
      "Samples written to error_samples/sesotho_gemini-2.0-flash-001.csv: (8, 8)\n",
      "Samples written to error_samples/sesotho_gpt4o_preview.csv: (6, 8)\n",
      "Samples written to error_samples/tswana_gemini-2.0-flash-001.csv: (8, 8)\n"
     ]
    },
    {
     "name": "stderr",
     "output_type": "stream",
     "text": [
      "Sampling model errors:  90%|\u001b[34m█████████ \u001b[0m| 18/20 [00:04<00:00,  6.65it/s]"
     ]
    },
    {
     "name": "stdout",
     "output_type": "stream",
     "text": [
      "Samples written to error_samples/tswana_gpt4o_preview.csv: (6, 8)\n",
      "Samples written to error_samples/french_canary-1b.csv: (10, 8)\n",
      "Samples written to error_samples/french_seamless-m4t-v2-large.csv: (10, 8)\n",
      "Samples written to error_samples/french_whisper-medium.csv: (10, 8)\n",
      "Samples written to error_samples/french_whisper-large-v3.csv: (10, 8)\n",
      "Samples written to error_samples/french_gemini-2.0-flash-001.csv: (10, 8)\n",
      "Samples written to error_samples/french_gpt4o_preview.csv: (10, 8)\n"
     ]
    },
    {
     "name": "stderr",
     "output_type": "stream",
     "text": [
      "Sampling model errors: 100%|\u001b[34m██████████\u001b[0m| 20/20 [00:04<00:00,  4.67it/s]"
     ]
    },
    {
     "name": "stdout",
     "output_type": "stream",
     "text": [
      "Samples written to error_samples/french_hf-seamless-m4t-large.csv: (10, 8)\n",
      "Samples written to error_samples/french_mms-1b-all.csv: (10, 8)\n",
      "Samples written to error_samples/kinyarwanda_gpt4o_preview.csv: (8, 8)\n",
      "Samples written to error_samples/kinyarwanda_mms-1b-all.csv: (10, 8)\n",
      "Samples written to error_samples/kinyarwanda_gemini-2.0-flash-001.csv: (10, 8)\n"
     ]
    },
    {
     "name": "stderr",
     "output_type": "stream",
     "text": [
      "\n"
     ]
    }
   ],
   "source": [
    "\n",
    "samples = pd.DataFrame()\n",
    "for lang in tqdm(language_list, total=len(language_list), colour='blue', desc='Sampling model errors'):\n",
    "    lang_csvs =  [os.path.join(\"results\", x) for x in files if lang in x]\n",
    "    for file in lang_csvs:\n",
    "        try:\n",
    "            samples_lang = pd.DataFrame()\n",
    "            df = pd.read_csv(file)\n",
    "            df = sample_error(df, threshold=0.3)\n",
    "            model_name = map_model_to_csv(file)\n",
    "            df['model_name'] = model_name\n",
    "            output_file = f\"error_samples/{lang}_{model_name}.csv\"\n",
    "            df.to_csv(output_file, index=False)\n",
    "            tqdm.write(f\"Samples written to {output_file}: {df.shape}\")\n",
    "            df['language'] = lang\n",
    "            samples_lang = pd.concat([samples_lang, df[['audio_path', 'language']]])\n",
    "        except Exception as e:\n",
    "            tqdm.write(file)\n",
    "            raise Exception(e)\n",
    "    samples = pd.concat([samples, samples_lang])\n",
    "samples.to_csv('error_audios.csv', index=False)\n",
    "\n",
    "    "
   ]
  },
  {
   "cell_type": "code",
   "execution_count": 36,
   "metadata": {},
   "outputs": [],
   "source": [
    "error_aud = pd.read_csv(\"error_audios.csv\")\n",
    "\n",
    "for row in error_aud.itertuples():\n",
    "    copy_dir = f\"error_samples/{row.language}/audios/\"\n",
    "    os.makedirs(copy_dir, exist_ok=True)\n",
    "    # shutil.copy2(row.audio_path, copy_dir)\n",
    "    row.audio_path = copy_dir + os.path.split"
   ]
  },
  {
   "cell_type": "code",
   "execution_count": 5,
   "metadata": {},
   "outputs": [
    {
     "data": {
      "text/html": [
       "<div>\n",
       "<style scoped>\n",
       "    .dataframe tbody tr th:only-of-type {\n",
       "        vertical-align: middle;\n",
       "    }\n",
       "\n",
       "    .dataframe tbody tr th {\n",
       "        vertical-align: top;\n",
       "    }\n",
       "\n",
       "    .dataframe thead th {\n",
       "        text-align: right;\n",
       "    }\n",
       "</style>\n",
       "<table border=\"1\" class=\"dataframe\">\n",
       "  <thead>\n",
       "    <tr style=\"text-align: right;\">\n",
       "      <th></th>\n",
       "      <th>speaker_id</th>\n",
       "      <th>reference</th>\n",
       "      <th>audio_path</th>\n",
       "      <th>duration</th>\n",
       "      <th>source</th>\n",
       "      <th>language</th>\n",
       "      <th>gender</th>\n",
       "      <th>hypothesis</th>\n",
       "      <th>pred_clean</th>\n",
       "      <th>ref_clean</th>\n",
       "      <th>wer</th>\n",
       "      <th>hypothesis_clean</th>\n",
       "      <th>reference_clean</th>\n",
       "    </tr>\n",
       "  </thead>\n",
       "  <tbody>\n",
       "    <tr>\n",
       "      <th>0</th>\n",
       "      <td>22</td>\n",
       "      <td>Nyɛɛ ekome</td>\n",
       "      <td>/data/fisd/ga/GaFm22-NBHk5JwO-Tmp079-ntRDLe.wav</td>\n",
       "      <td>2.880000</td>\n",
       "      <td>Ashesi-Org_Financial-Inclusion-Speech-Dataset</td>\n",
       "      <td>ga</td>\n",
       "      <td>female</td>\n",
       "      <td>Ńyè égúlè.\\n</td>\n",
       "      <td>nye egule</td>\n",
       "      <td>nyɛɛ ekome</td>\n",
       "      <td>1.000000</td>\n",
       "      <td>nye egule</td>\n",
       "      <td>nyɛɛ ekome</td>\n",
       "    </tr>\n",
       "    <tr>\n",
       "      <th>1</th>\n",
       "      <td>21</td>\n",
       "      <td>Adafitwaa kɛ shwɛmɔ</td>\n",
       "      <td>/data/fisd/ga/GaFm21-DAlkpH0k-Tmp077-JAWck2.wav</td>\n",
       "      <td>9.597812</td>\n",
       "      <td>Ashesi-Org_Financial-Inclusion-Speech-Dataset</td>\n",
       "      <td>ga</td>\n",
       "      <td>female</td>\n",
       "      <td>A da fica ciake shemo.\\n</td>\n",
       "      <td>a da fica ciake shemo</td>\n",
       "      <td>adafitwaa kɛ shwɛmɔ</td>\n",
       "      <td>1.666667</td>\n",
       "      <td>a da fica ciake shemo</td>\n",
       "      <td>adafitwaa kɛ shwɛmɔ</td>\n",
       "    </tr>\n",
       "    <tr>\n",
       "      <th>2</th>\n",
       "      <td>61</td>\n",
       "      <td>kɛfee lɛ tswaa mi</td>\n",
       "      <td>/data/fisd/ga/GaFm61-EAp3kOX6-Tmp102-hQvDjb.wav</td>\n",
       "      <td>7.837813</td>\n",
       "      <td>Ashesi-Org_Financial-Inclusion-Speech-Dataset</td>\n",
       "      <td>ga</td>\n",
       "      <td>female</td>\n",
       "      <td>Minyano.\\n</td>\n",
       "      <td>minyano</td>\n",
       "      <td>kɛfee lɛ tswaa mi</td>\n",
       "      <td>1.000000</td>\n",
       "      <td>minyano</td>\n",
       "      <td>kɛfee lɛ tswaa mi</td>\n",
       "    </tr>\n",
       "    <tr>\n",
       "      <th>3</th>\n",
       "      <td>20</td>\n",
       "      <td>Mɛni ofeɔ ŋmɛnɛ</td>\n",
       "      <td>/data/fisd/ga/GaMa20-BAt9gHqR-Tmp103-saWzSq.wav</td>\n",
       "      <td>7.353500</td>\n",
       "      <td>Ashesi-Org_Financial-Inclusion-Speech-Dataset</td>\n",
       "      <td>ga</td>\n",
       "      <td>male</td>\n",
       "      <td>Mini ofi ẹlẹ́ǹmẹ̀nẹ̀.\\n</td>\n",
       "      <td>mini ofi elenmene</td>\n",
       "      <td>mɛni ofeɔ ŋmɛnɛ</td>\n",
       "      <td>1.000000</td>\n",
       "      <td>mini ofi elenmene</td>\n",
       "      <td>mɛni ofeɔ ŋmɛnɛ</td>\n",
       "    </tr>\n",
       "    <tr>\n",
       "      <th>4</th>\n",
       "      <td>20</td>\n",
       "      <td>Ofainɛ noko  ekoŋ yɛ ni otawɔ ni ofee aloo</td>\n",
       "      <td>/data/fisd/ga/GaMa20-JAxNmZd8-Tmp038-3r9eIe.wav</td>\n",
       "      <td>7.433500</td>\n",
       "      <td>Ashesi-Org_Financial-Inclusion-Speech-Dataset</td>\n",
       "      <td>ga</td>\n",
       "      <td>male</td>\n",
       "      <td>Àfí a ní ò kó ìkú ohun ìyẹn ni ó ta w...</td>\n",
       "      <td>afi a ni o ko iku ohun iyen ni o ta wa ni ofi ...</td>\n",
       "      <td>ofainɛ noko ekoŋ yɛ ni otawɔ ni ofee aloo</td>\n",
       "      <td>1.444444</td>\n",
       "      <td>afi a ni o ko iku ohun iyen ni o ta wa ni ofi ...</td>\n",
       "      <td>ofainɛ noko ekoŋ yɛ ni otawɔ ni ofee aloo</td>\n",
       "    </tr>\n",
       "    <tr>\n",
       "      <th>...</th>\n",
       "      <td>...</td>\n",
       "      <td>...</td>\n",
       "      <td>...</td>\n",
       "      <td>...</td>\n",
       "      <td>...</td>\n",
       "      <td>...</td>\n",
       "      <td>...</td>\n",
       "      <td>...</td>\n",
       "      <td>...</td>\n",
       "      <td>...</td>\n",
       "      <td>...</td>\n",
       "      <td>...</td>\n",
       "      <td>...</td>\n",
       "    </tr>\n",
       "    <tr>\n",
       "      <th>70</th>\n",
       "      <td>919fac7a-a4f2-48a2-b679-61e62d056f51</td>\n",
       "      <td>Mihu minyɛɛɛ maye nii gbɛkɛ ejaakɛ mimusu mli ...</td>\n",
       "      <td>/data/intron_mt/ga/35fd2bdc14ba88999b955c40fb2...</td>\n",
       "      <td>10.198000</td>\n",
       "      <td>intron-MT</td>\n",
       "      <td>ga</td>\n",
       "      <td>Female</td>\n",
       "      <td>mihumi nyɛ mayɛning bɛkɛ, ɛgyaakɛ mi mmusumbri...</td>\n",
       "      <td>mihumi nyɛ mayɛning bɛkɛ ɛgyaakɛ mi mmusumbrii...</td>\n",
       "      <td>mihu minyɛɛɛ maye nii gbɛkɛ ejaakɛ mimusu mli ...</td>\n",
       "      <td>0.882353</td>\n",
       "      <td>mihumi nyɛ mayɛning bɛkɛ ɛgyaakɛ mi mmusumbrii...</td>\n",
       "      <td>mihu minyɛɛɛ maye nii gbɛkɛ ejaakɛ mimusu mli ...</td>\n",
       "    </tr>\n",
       "    <tr>\n",
       "      <th>71</th>\n",
       "      <td>919fac7a-a4f2-48a2-b679-61e62d056f51</td>\n",
       "      <td>Fɛ̃i hu miyeɔ lɛ shi ebɛ atridii. Nɔni jiɔɔ kp...</td>\n",
       "      <td>/data/intron_mt/ga/69a7d3c4f10aab89de1c556ae3a...</td>\n",
       "      <td>13.893000</td>\n",
       "      <td>intron-MT</td>\n",
       "      <td>ga</td>\n",
       "      <td>Female</td>\n",
       "      <td>fa yi hu mi yoo le, sin e be a tri-di yi, ni w...</td>\n",
       "      <td>fa yi hu mi yoo le sin e be a tri di yi ni won...</td>\n",
       "      <td>fɛi hu miyeɔ lɛ shi ebɛ atridii nɔni jiɔɔ kpo ...</td>\n",
       "      <td>1.291667</td>\n",
       "      <td>fa yi hu mi yoo le sin e be a tri di yi ni won...</td>\n",
       "      <td>fɛi hu miyeɔ lɛ shi ebɛ atridii nɔni jiɔɔ kpo ...</td>\n",
       "    </tr>\n",
       "    <tr>\n",
       "      <th>72</th>\n",
       "      <td>919fac7a-a4f2-48a2-b679-61e62d056f51</td>\n",
       "      <td>Gbi nyɔŋma kɛ enumɔ sɛɛ mli lɛ,gbee lɛ gbo. Es...</td>\n",
       "      <td>/data/intron_mt/ga/e4764a52ebe0523f67ee78c6b33...</td>\n",
       "      <td>9.119000</td>\n",
       "      <td>intron-MT</td>\n",
       "      <td>ga</td>\n",
       "      <td>Female</td>\n",
       "      <td>diinyun makhɛ ɛnnumɔ sɛm ninnle bɛlɛgbo, ɛsaan...</td>\n",
       "      <td>diinyun makhɛ ɛnnumɔ sɛm ninnle bɛlɛgbo ɛsaani...</td>\n",
       "      <td>gbi nyɔŋma kɛ enumɔ sɛɛ mli lɛ gbee lɛ gbo esa...</td>\n",
       "      <td>1.000000</td>\n",
       "      <td>diinyun makhɛ ɛnnumɔ sɛm ninnle bɛlɛgbo ɛsaani...</td>\n",
       "      <td>gbi nyɔŋma kɛ enumɔ sɛɛ mli lɛ gbee lɛ gbo esa...</td>\n",
       "    </tr>\n",
       "    <tr>\n",
       "      <th>73</th>\n",
       "      <td>919fac7a-a4f2-48a2-b679-61e62d056f51</td>\n",
       "      <td>Mi datrɛfonyo bi mi akɛ miyɛ atridii yɛ beefio...</td>\n",
       "      <td>/data/intron_mt/ga/eb7cd16a9b917af8790745d18c7...</td>\n",
       "      <td>14.523000</td>\n",
       "      <td>intron-MT</td>\n",
       "      <td>ga</td>\n",
       "      <td>Female</td>\n",
       "      <td>Me daa twerefoɔ no bi mmiɛnsa akɛseɛ mmienu a ...</td>\n",
       "      <td>me daa twerefoɔ no bi mmiɛnsa akɛseɛ mmienu a ...</td>\n",
       "      <td>mi datrɛfonyo bi mi akɛ miyɛ atridii yɛ beefio...</td>\n",
       "      <td>1.200000</td>\n",
       "      <td>me daa twerefoɔ no bi mmiɛnsa akɛseɛ mmienu a ...</td>\n",
       "      <td>mi datrɛfonyo bi mi akɛ miyɛ atridii yɛ beefio...</td>\n",
       "    </tr>\n",
       "    <tr>\n",
       "      <th>74</th>\n",
       "      <td>919fac7a-a4f2-48a2-b679-61e62d056f51</td>\n",
       "      <td>Mitashi hiŋmɛitswaa nyɔ̃ŋma ni ni miteshi  akɛ...</td>\n",
       "      <td>/data/intron_mt/ga/9f50e37c472dce3796ac89b83ec...</td>\n",
       "      <td>13.132000</td>\n",
       "      <td>intron-MT</td>\n",
       "      <td>ga</td>\n",
       "      <td>Female</td>\n",
       "      <td>Mitashi hing me ejula nnoma. Nnini meteeshi a ...</td>\n",
       "      <td>mitashi hing me ejula nnoma nnini meteeshi a k...</td>\n",
       "      <td>mitashi hiŋmɛitswaa nyɔŋma ni ni miteshi akɛ m...</td>\n",
       "      <td>0.962963</td>\n",
       "      <td>mitashi hing me ejula nnoma nnini meteeshi a k...</td>\n",
       "      <td>mitashi hiŋmɛitswaa nyɔŋma ni ni miteshi akɛ m...</td>\n",
       "    </tr>\n",
       "  </tbody>\n",
       "</table>\n",
       "<p>75 rows × 13 columns</p>\n",
       "</div>"
      ],
      "text/plain": [
       "                              speaker_id  \\\n",
       "0                                     22   \n",
       "1                                     21   \n",
       "2                                     61   \n",
       "3                                     20   \n",
       "4                                     20   \n",
       "..                                   ...   \n",
       "70  919fac7a-a4f2-48a2-b679-61e62d056f51   \n",
       "71  919fac7a-a4f2-48a2-b679-61e62d056f51   \n",
       "72  919fac7a-a4f2-48a2-b679-61e62d056f51   \n",
       "73  919fac7a-a4f2-48a2-b679-61e62d056f51   \n",
       "74  919fac7a-a4f2-48a2-b679-61e62d056f51   \n",
       "\n",
       "                                            reference  \\\n",
       "0                                          Nyɛɛ ekome   \n",
       "1                                 Adafitwaa kɛ shwɛmɔ   \n",
       "2                                   kɛfee lɛ tswaa mi   \n",
       "3                                     Mɛni ofeɔ ŋmɛnɛ   \n",
       "4          Ofainɛ noko  ekoŋ yɛ ni otawɔ ni ofee aloo   \n",
       "..                                                ...   \n",
       "70  Mihu minyɛɛɛ maye nii gbɛkɛ ejaakɛ mimusu mli ...   \n",
       "71  Fɛ̃i hu miyeɔ lɛ shi ebɛ atridii. Nɔni jiɔɔ kp...   \n",
       "72  Gbi nyɔŋma kɛ enumɔ sɛɛ mli lɛ,gbee lɛ gbo. Es...   \n",
       "73  Mi datrɛfonyo bi mi akɛ miyɛ atridii yɛ beefio...   \n",
       "74  Mitashi hiŋmɛitswaa nyɔ̃ŋma ni ni miteshi  akɛ...   \n",
       "\n",
       "                                           audio_path   duration  \\\n",
       "0     /data/fisd/ga/GaFm22-NBHk5JwO-Tmp079-ntRDLe.wav   2.880000   \n",
       "1     /data/fisd/ga/GaFm21-DAlkpH0k-Tmp077-JAWck2.wav   9.597812   \n",
       "2     /data/fisd/ga/GaFm61-EAp3kOX6-Tmp102-hQvDjb.wav   7.837813   \n",
       "3     /data/fisd/ga/GaMa20-BAt9gHqR-Tmp103-saWzSq.wav   7.353500   \n",
       "4     /data/fisd/ga/GaMa20-JAxNmZd8-Tmp038-3r9eIe.wav   7.433500   \n",
       "..                                                ...        ...   \n",
       "70  /data/intron_mt/ga/35fd2bdc14ba88999b955c40fb2...  10.198000   \n",
       "71  /data/intron_mt/ga/69a7d3c4f10aab89de1c556ae3a...  13.893000   \n",
       "72  /data/intron_mt/ga/e4764a52ebe0523f67ee78c6b33...   9.119000   \n",
       "73  /data/intron_mt/ga/eb7cd16a9b917af8790745d18c7...  14.523000   \n",
       "74  /data/intron_mt/ga/9f50e37c472dce3796ac89b83ec...  13.132000   \n",
       "\n",
       "                                           source language  gender  \\\n",
       "0   Ashesi-Org_Financial-Inclusion-Speech-Dataset       ga  female   \n",
       "1   Ashesi-Org_Financial-Inclusion-Speech-Dataset       ga  female   \n",
       "2   Ashesi-Org_Financial-Inclusion-Speech-Dataset       ga  female   \n",
       "3   Ashesi-Org_Financial-Inclusion-Speech-Dataset       ga    male   \n",
       "4   Ashesi-Org_Financial-Inclusion-Speech-Dataset       ga    male   \n",
       "..                                            ...      ...     ...   \n",
       "70                                      intron-MT       ga  Female   \n",
       "71                                      intron-MT       ga  Female   \n",
       "72                                      intron-MT       ga  Female   \n",
       "73                                      intron-MT       ga  Female   \n",
       "74                                      intron-MT       ga  Female   \n",
       "\n",
       "                                           hypothesis  \\\n",
       "0                                        Ńyè égúlè.\\n   \n",
       "1                            A da fica ciake shemo.\\n   \n",
       "2                                          Minyano.\\n   \n",
       "3                             Mini ofi ẹlẹ́ǹmẹ̀nẹ̀.\\n   \n",
       "4   Àfí a ní ò kó ìkú ohun ìyẹn ni ó ta w...   \n",
       "..                                                ...   \n",
       "70  mihumi nyɛ mayɛning bɛkɛ, ɛgyaakɛ mi mmusumbri...   \n",
       "71  fa yi hu mi yoo le, sin e be a tri-di yi, ni w...   \n",
       "72  diinyun makhɛ ɛnnumɔ sɛm ninnle bɛlɛgbo, ɛsaan...   \n",
       "73  Me daa twerefoɔ no bi mmiɛnsa akɛseɛ mmienu a ...   \n",
       "74  Mitashi hing me ejula nnoma. Nnini meteeshi a ...   \n",
       "\n",
       "                                           pred_clean  \\\n",
       "0                                          nye egule    \n",
       "1                              a da fica ciake shemo    \n",
       "2                                            minyano    \n",
       "3                                  mini ofi elenmene    \n",
       "4   afi a ni o ko iku ohun iyen ni o ta wa ni ofi ...   \n",
       "..                                                ...   \n",
       "70  mihumi nyɛ mayɛning bɛkɛ ɛgyaakɛ mi mmusumbrii...   \n",
       "71  fa yi hu mi yoo le sin e be a tri di yi ni won...   \n",
       "72  diinyun makhɛ ɛnnumɔ sɛm ninnle bɛlɛgbo ɛsaani...   \n",
       "73  me daa twerefoɔ no bi mmiɛnsa akɛseɛ mmienu a ...   \n",
       "74  mitashi hing me ejula nnoma nnini meteeshi a k...   \n",
       "\n",
       "                                            ref_clean       wer  \\\n",
       "0                                          nyɛɛ ekome  1.000000   \n",
       "1                                 adafitwaa kɛ shwɛmɔ  1.666667   \n",
       "2                                   kɛfee lɛ tswaa mi  1.000000   \n",
       "3                                     mɛni ofeɔ ŋmɛnɛ  1.000000   \n",
       "4           ofainɛ noko ekoŋ yɛ ni otawɔ ni ofee aloo  1.444444   \n",
       "..                                                ...       ...   \n",
       "70  mihu minyɛɛɛ maye nii gbɛkɛ ejaakɛ mimusu mli ...  0.882353   \n",
       "71  fɛi hu miyeɔ lɛ shi ebɛ atridii nɔni jiɔɔ kpo ...  1.291667   \n",
       "72  gbi nyɔŋma kɛ enumɔ sɛɛ mli lɛ gbee lɛ gbo esa...  1.000000   \n",
       "73  mi datrɛfonyo bi mi akɛ miyɛ atridii yɛ beefio...  1.200000   \n",
       "74  mitashi hiŋmɛitswaa nyɔŋma ni ni miteshi akɛ m...  0.962963   \n",
       "\n",
       "                                     hypothesis_clean  \\\n",
       "0                                          nye egule    \n",
       "1                              a da fica ciake shemo    \n",
       "2                                            minyano    \n",
       "3                                  mini ofi elenmene    \n",
       "4   afi a ni o ko iku ohun iyen ni o ta wa ni ofi ...   \n",
       "..                                                ...   \n",
       "70  mihumi nyɛ mayɛning bɛkɛ ɛgyaakɛ mi mmusumbrii...   \n",
       "71  fa yi hu mi yoo le sin e be a tri di yi ni won...   \n",
       "72  diinyun makhɛ ɛnnumɔ sɛm ninnle bɛlɛgbo ɛsaani...   \n",
       "73  me daa twerefoɔ no bi mmiɛnsa akɛseɛ mmienu a ...   \n",
       "74  mitashi hing me ejula nnoma nnini meteeshi a k...   \n",
       "\n",
       "                                      reference_clean  \n",
       "0                                          nyɛɛ ekome  \n",
       "1                                 adafitwaa kɛ shwɛmɔ  \n",
       "2                                   kɛfee lɛ tswaa mi  \n",
       "3                                     mɛni ofeɔ ŋmɛnɛ  \n",
       "4           ofainɛ noko ekoŋ yɛ ni otawɔ ni ofee aloo  \n",
       "..                                                ...  \n",
       "70  mihu minyɛɛɛ maye nii gbɛkɛ ejaakɛ mimusu mli ...  \n",
       "71  fɛi hu miyeɔ lɛ shi ebɛ atridii nɔni jiɔɔ kpo ...  \n",
       "72  gbi nyɔŋma kɛ enumɔ sɛɛ mli lɛ gbee lɛ gbo esa...  \n",
       "73  mi datrɛfonyo bi mi akɛ miyɛ atridii yɛ beefio...  \n",
       "74  mitashi hiŋmɛitswaa nyɔŋma ni ni miteshi akɛ m...  \n",
       "\n",
       "[75 rows x 13 columns]"
      ]
     },
     "execution_count": 5,
     "metadata": {},
     "output_type": "execute_result"
    }
   ],
   "source": [
    "df = pd.read_csv(\"/home/busayo/busayo/asr_benchmarking/results/open-source-full_test-gemini-2.0-flash-001-ga-wer-1.0784-75.csv\")\n",
    "df"
   ]
  },
  {
   "cell_type": "code",
   "execution_count": null,
   "metadata": {},
   "outputs": [],
   "source": []
  }
 ],
 "metadata": {
  "kernelspec": {
   "display_name": "asr_benchmark",
   "language": "python",
   "name": "python3"
  },
  "language_info": {
   "codemirror_mode": {
    "name": "ipython",
    "version": 3
   },
   "file_extension": ".py",
   "mimetype": "text/x-python",
   "name": "python",
   "nbconvert_exporter": "python",
   "pygments_lexer": "ipython3",
   "version": "3.10.16"
  }
 },
 "nbformat": 4,
 "nbformat_minor": 2
}
